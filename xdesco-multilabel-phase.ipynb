{
 "cells": [
  {
   "cell_type": "code",
   "execution_count": 1,
   "id": "36e11741",
   "metadata": {
    "_cell_guid": "b1076dfc-b9ad-4769-8c92-a6c4dae69d19",
    "_uuid": "8f2839f25d086af736a60e9eeb907d3b93b6e0e5",
    "execution": {
     "iopub.execute_input": "2024-07-16T01:30:52.372879Z",
     "iopub.status.busy": "2024-07-16T01:30:52.371941Z",
     "iopub.status.idle": "2024-07-16T01:31:10.457625Z",
     "shell.execute_reply": "2024-07-16T01:31:10.456455Z"
    },
    "papermill": {
     "duration": 18.102553,
     "end_time": "2024-07-16T01:31:10.460161",
     "exception": false,
     "start_time": "2024-07-16T01:30:52.357608",
     "status": "completed"
    },
    "tags": []
   },
   "outputs": [
    {
     "name": "stdout",
     "output_type": "stream",
     "text": [
      "Requirement already satisfied: scikit-learn in /opt/conda/lib/python3.10/site-packages (1.2.2)\r\n",
      "Collecting scikit-learn\r\n",
      "  Downloading scikit_learn-1.5.1-cp310-cp310-manylinux_2_17_x86_64.manylinux2014_x86_64.whl.metadata (12 kB)\r\n",
      "Requirement already satisfied: numpy>=1.19.5 in /opt/conda/lib/python3.10/site-packages (from scikit-learn) (1.26.4)\r\n",
      "Requirement already satisfied: scipy>=1.6.0 in /opt/conda/lib/python3.10/site-packages (from scikit-learn) (1.11.4)\r\n",
      "Requirement already satisfied: joblib>=1.2.0 in /opt/conda/lib/python3.10/site-packages (from scikit-learn) (1.4.2)\r\n",
      "Requirement already satisfied: threadpoolctl>=3.1.0 in /opt/conda/lib/python3.10/site-packages (from scikit-learn) (3.2.0)\r\n",
      "Downloading scikit_learn-1.5.1-cp310-cp310-manylinux_2_17_x86_64.manylinux2014_x86_64.whl (13.4 MB)\r\n",
      "\u001b[2K   \u001b[90m━━━━━━━━━━━━━━━━━━━━━━━━━━━━━━━━━━━━━━━━\u001b[0m \u001b[32m13.4/13.4 MB\u001b[0m \u001b[31m78.8 MB/s\u001b[0m eta \u001b[36m0:00:00\u001b[0m\r\n",
      "\u001b[?25hInstalling collected packages: scikit-learn\r\n",
      "  Attempting uninstall: scikit-learn\r\n",
      "    Found existing installation: scikit-learn 1.2.2\r\n",
      "    Uninstalling scikit-learn-1.2.2:\r\n",
      "      Successfully uninstalled scikit-learn-1.2.2\r\n",
      "\u001b[31mERROR: pip's dependency resolver does not currently take into account all the packages that are installed. This behaviour is the source of the following dependency conflicts.\r\n",
      "spaghetti 1.7.6 requires shapely>=2.0.1, but you have shapely 1.8.5.post1 which is incompatible.\r\n",
      "spopt 0.6.1 requires shapely>=2.0.1, but you have shapely 1.8.5.post1 which is incompatible.\u001b[0m\u001b[31m\r\n",
      "\u001b[0mSuccessfully installed scikit-learn-1.5.1\r\n"
     ]
    }
   ],
   "source": [
    "!pip install --upgrade scikit-learn"
   ]
  },
  {
   "cell_type": "markdown",
   "id": "b192d764",
   "metadata": {
    "papermill": {
     "duration": 0.013139,
     "end_time": "2024-07-16T01:31:10.487273",
     "exception": false,
     "start_time": "2024-07-16T01:31:10.474134",
     "status": "completed"
    },
    "tags": []
   },
   "source": [
    "# import lib"
   ]
  },
  {
   "cell_type": "code",
   "execution_count": 2,
   "id": "c4e690b1",
   "metadata": {
    "execution": {
     "iopub.execute_input": "2024-07-16T01:31:10.516241Z",
     "iopub.status.busy": "2024-07-16T01:31:10.515483Z",
     "iopub.status.idle": "2024-07-16T01:31:19.074190Z",
     "shell.execute_reply": "2024-07-16T01:31:19.073367Z"
    },
    "papermill": {
     "duration": 8.576093,
     "end_time": "2024-07-16T01:31:19.076695",
     "exception": false,
     "start_time": "2024-07-16T01:31:10.500602",
     "status": "completed"
    },
    "tags": []
   },
   "outputs": [],
   "source": [
    "import os \n",
    "import cv2\n",
    "import sys\n",
    "import math\n",
    "import copy\n",
    "import timm\n",
    "import torch\n",
    "import random\n",
    "import requests\n",
    "import numpy as np\n",
    "import torchvision\n",
    "import pandas as pd\n",
    "import torch.nn as nn\n",
    "from PIL import Image\n",
    "from tqdm import tqdm\n",
    "import torch.optim as optim\n",
    "import torch.nn.functional as F\n",
    "import matplotlib.pyplot as plt\n",
    "from torchvision import transforms\n",
    "import torchvision.models as models\n",
    "from torchvision.transforms import v2\n",
    "import torchvision.datasets as datasets\n",
    "from torch.distributions.beta import Beta\n",
    "import torchvision.transforms as transforms\n",
    "from torch.utils.data import Dataset, DataLoader, SubsetRandomSampler\n",
    "\n",
    "from sklearn.metrics import accuracy_score, classification_report, confusion_matrix, ConfusionMatrixDisplay\n",
    "from sklearn.preprocessing import MultiLabelBinarizer, OneHotEncoder"
   ]
  },
  {
   "cell_type": "markdown",
   "id": "7bf9d868",
   "metadata": {
    "papermill": {
     "duration": 0.013924,
     "end_time": "2024-07-16T01:31:19.104073",
     "exception": false,
     "start_time": "2024-07-16T01:31:19.090149",
     "status": "completed"
    },
    "tags": []
   },
   "source": [
    "# preprocess multilabel"
   ]
  },
  {
   "cell_type": "code",
   "execution_count": 3,
   "id": "4effb674",
   "metadata": {
    "execution": {
     "iopub.execute_input": "2024-07-16T01:31:19.132651Z",
     "iopub.status.busy": "2024-07-16T01:31:19.131822Z",
     "iopub.status.idle": "2024-07-16T01:31:19.136238Z",
     "shell.execute_reply": "2024-07-16T01:31:19.135240Z"
    },
    "papermill": {
     "duration": 0.020627,
     "end_time": "2024-07-16T01:31:19.138088",
     "exception": false,
     "start_time": "2024-07-16T01:31:19.117461",
     "status": "completed"
    },
    "tags": []
   },
   "outputs": [],
   "source": [
    "# def process_label_kl(label_unprocess):\n",
    "#     if label_unprocess == 2:\n",
    "#         label_unprocess = 1\n",
    "#     if label_unprocess == 3 or label_unprocess == 4:\n",
    "#         label_unprocess = 2\n",
    "#     return label_unprocess"
   ]
  },
  {
   "cell_type": "code",
   "execution_count": 4,
   "id": "2bbf91a6",
   "metadata": {
    "execution": {
     "iopub.execute_input": "2024-07-16T01:31:19.166963Z",
     "iopub.status.busy": "2024-07-16T01:31:19.166134Z",
     "iopub.status.idle": "2024-07-16T01:31:19.264986Z",
     "shell.execute_reply": "2024-07-16T01:31:19.263895Z"
    },
    "papermill": {
     "duration": 0.115675,
     "end_time": "2024-07-16T01:31:19.267160",
     "exception": false,
     "start_time": "2024-07-16T01:31:19.151485",
     "status": "completed"
    },
    "tags": []
   },
   "outputs": [
    {
     "data": {
      "text/html": [
       "<div>\n",
       "<style scoped>\n",
       "    .dataframe tbody tr th:only-of-type {\n",
       "        vertical-align: middle;\n",
       "    }\n",
       "\n",
       "    .dataframe tbody tr th {\n",
       "        vertical-align: top;\n",
       "    }\n",
       "\n",
       "    .dataframe thead th {\n",
       "        text-align: right;\n",
       "    }\n",
       "</style>\n",
       "<table border=\"1\" class=\"dataframe\">\n",
       "  <thead>\n",
       "    <tr style=\"text-align: right;\">\n",
       "      <th></th>\n",
       "      <th>id</th>\n",
       "      <th>side</th>\n",
       "      <th>subset</th>\n",
       "      <th>filename</th>\n",
       "      <th>kl_grade</th>\n",
       "      <th>osteophytes</th>\n",
       "      <th>jsn</th>\n",
       "      <th>osfl</th>\n",
       "      <th>scfl</th>\n",
       "      <th>cyfl</th>\n",
       "      <th>...</th>\n",
       "      <th>cytm</th>\n",
       "      <th>attm</th>\n",
       "      <th>osfm</th>\n",
       "      <th>scfm</th>\n",
       "      <th>cyfm</th>\n",
       "      <th>ostl</th>\n",
       "      <th>sctl</th>\n",
       "      <th>cytl</th>\n",
       "      <th>attl</th>\n",
       "      <th>actual_path</th>\n",
       "    </tr>\n",
       "  </thead>\n",
       "  <tbody>\n",
       "    <tr>\n",
       "      <th>0</th>\n",
       "      <td>9000099</td>\n",
       "      <td>L</td>\n",
       "      <td>train</td>\n",
       "      <td>9000099L.png</td>\n",
       "      <td>3</td>\n",
       "      <td>def</td>\n",
       "      <td>severe</td>\n",
       "      <td>2.0</td>\n",
       "      <td>2.0</td>\n",
       "      <td>0.0</td>\n",
       "      <td>...</td>\n",
       "      <td>1.0</td>\n",
       "      <td>0.0</td>\n",
       "      <td>0.0</td>\n",
       "      <td>0.0</td>\n",
       "      <td>0.0</td>\n",
       "      <td>1.0</td>\n",
       "      <td>2.0</td>\n",
       "      <td>0.0</td>\n",
       "      <td>0.0</td>\n",
       "      <td>/kaggle/input/knee-osteoarthritis-dataset-with...</td>\n",
       "    </tr>\n",
       "    <tr>\n",
       "      <th>1</th>\n",
       "      <td>9000099</td>\n",
       "      <td>R</td>\n",
       "      <td>train</td>\n",
       "      <td>9000099R.png</td>\n",
       "      <td>2</td>\n",
       "      <td>def</td>\n",
       "      <td>mild/mod</td>\n",
       "      <td>2.0</td>\n",
       "      <td>0.0</td>\n",
       "      <td>0.0</td>\n",
       "      <td>...</td>\n",
       "      <td>0.0</td>\n",
       "      <td>0.0</td>\n",
       "      <td>0.0</td>\n",
       "      <td>0.0</td>\n",
       "      <td>0.0</td>\n",
       "      <td>1.0</td>\n",
       "      <td>0.0</td>\n",
       "      <td>0.0</td>\n",
       "      <td>0.0</td>\n",
       "      <td>/kaggle/input/knee-osteoarthritis-dataset-with...</td>\n",
       "    </tr>\n",
       "    <tr>\n",
       "      <th>2</th>\n",
       "      <td>9000296</td>\n",
       "      <td>L</td>\n",
       "      <td>train</td>\n",
       "      <td>9000296L.png</td>\n",
       "      <td>3</td>\n",
       "      <td>poss</td>\n",
       "      <td>def</td>\n",
       "      <td>0.0</td>\n",
       "      <td>0.0</td>\n",
       "      <td>0.0</td>\n",
       "      <td>...</td>\n",
       "      <td>0.0</td>\n",
       "      <td>0.0</td>\n",
       "      <td>0.0</td>\n",
       "      <td>0.0</td>\n",
       "      <td>0.0</td>\n",
       "      <td>0.0</td>\n",
       "      <td>0.0</td>\n",
       "      <td>0.0</td>\n",
       "      <td>0.0</td>\n",
       "      <td>/kaggle/input/knee-osteoarthritis-dataset-with...</td>\n",
       "    </tr>\n",
       "    <tr>\n",
       "      <th>3</th>\n",
       "      <td>9000296</td>\n",
       "      <td>R</td>\n",
       "      <td>train</td>\n",
       "      <td>9000296R.png</td>\n",
       "      <td>2</td>\n",
       "      <td>def</td>\n",
       "      <td>none</td>\n",
       "      <td>0.0</td>\n",
       "      <td>0.0</td>\n",
       "      <td>0.0</td>\n",
       "      <td>...</td>\n",
       "      <td>0.0</td>\n",
       "      <td>0.0</td>\n",
       "      <td>0.0</td>\n",
       "      <td>0.0</td>\n",
       "      <td>0.0</td>\n",
       "      <td>0.0</td>\n",
       "      <td>0.0</td>\n",
       "      <td>0.0</td>\n",
       "      <td>0.0</td>\n",
       "      <td>/kaggle/input/knee-osteoarthritis-dataset-with...</td>\n",
       "    </tr>\n",
       "    <tr>\n",
       "      <th>4</th>\n",
       "      <td>9000622</td>\n",
       "      <td>L</td>\n",
       "      <td>train</td>\n",
       "      <td>9000622L.png</td>\n",
       "      <td>1</td>\n",
       "      <td>none</td>\n",
       "      <td>none</td>\n",
       "      <td>0.0</td>\n",
       "      <td>0.0</td>\n",
       "      <td>0.0</td>\n",
       "      <td>...</td>\n",
       "      <td>0.0</td>\n",
       "      <td>0.0</td>\n",
       "      <td>0.0</td>\n",
       "      <td>0.0</td>\n",
       "      <td>0.0</td>\n",
       "      <td>0.0</td>\n",
       "      <td>0.0</td>\n",
       "      <td>0.0</td>\n",
       "      <td>0.0</td>\n",
       "      <td>/kaggle/input/knee-osteoarthritis-dataset-with...</td>\n",
       "    </tr>\n",
       "  </tbody>\n",
       "</table>\n",
       "<p>5 rows × 22 columns</p>\n",
       "</div>"
      ],
      "text/plain": [
       "        id side subset      filename  kl_grade osteophytes       jsn  osfl  \\\n",
       "0  9000099    L  train  9000099L.png         3         def    severe   2.0   \n",
       "1  9000099    R  train  9000099R.png         2         def  mild/mod   2.0   \n",
       "2  9000296    L  train  9000296L.png         3        poss       def   0.0   \n",
       "3  9000296    R  train  9000296R.png         2         def      none   0.0   \n",
       "4  9000622    L  train  9000622L.png         1        none      none   0.0   \n",
       "\n",
       "   scfl  cyfl  ...  cytm  attm  osfm  scfm  cyfm  ostl  sctl  cytl  attl  \\\n",
       "0   2.0   0.0  ...   1.0   0.0   0.0   0.0   0.0   1.0   2.0   0.0   0.0   \n",
       "1   0.0   0.0  ...   0.0   0.0   0.0   0.0   0.0   1.0   0.0   0.0   0.0   \n",
       "2   0.0   0.0  ...   0.0   0.0   0.0   0.0   0.0   0.0   0.0   0.0   0.0   \n",
       "3   0.0   0.0  ...   0.0   0.0   0.0   0.0   0.0   0.0   0.0   0.0   0.0   \n",
       "4   0.0   0.0  ...   0.0   0.0   0.0   0.0   0.0   0.0   0.0   0.0   0.0   \n",
       "\n",
       "                                         actual_path  \n",
       "0  /kaggle/input/knee-osteoarthritis-dataset-with...  \n",
       "1  /kaggle/input/knee-osteoarthritis-dataset-with...  \n",
       "2  /kaggle/input/knee-osteoarthritis-dataset-with...  \n",
       "3  /kaggle/input/knee-osteoarthritis-dataset-with...  \n",
       "4  /kaggle/input/knee-osteoarthritis-dataset-with...  \n",
       "\n",
       "[5 rows x 22 columns]"
      ]
     },
     "execution_count": 4,
     "metadata": {},
     "output_type": "execute_result"
    }
   ],
   "source": [
    "df = pd.read_csv(\"/kaggle/input/oai-clinical/oai-clinical/multilabel_missing-filled.csv\")\n",
    "df.head(5)"
   ]
  },
  {
   "cell_type": "code",
   "execution_count": 5,
   "id": "e3758fe5",
   "metadata": {
    "execution": {
     "iopub.execute_input": "2024-07-16T01:31:19.296642Z",
     "iopub.status.busy": "2024-07-16T01:31:19.296278Z",
     "iopub.status.idle": "2024-07-16T01:31:19.300420Z",
     "shell.execute_reply": "2024-07-16T01:31:19.299547Z"
    },
    "papermill": {
     "duration": 0.021014,
     "end_time": "2024-07-16T01:31:19.302239",
     "exception": false,
     "start_time": "2024-07-16T01:31:19.281225",
     "status": "completed"
    },
    "tags": []
   },
   "outputs": [],
   "source": [
    "# df[\"kl_grade\"] = df[\"kl_grade\"].map(process_label_kl)"
   ]
  },
  {
   "cell_type": "code",
   "execution_count": 6,
   "id": "285d5a3c",
   "metadata": {
    "execution": {
     "iopub.execute_input": "2024-07-16T01:31:19.331453Z",
     "iopub.status.busy": "2024-07-16T01:31:19.331099Z",
     "iopub.status.idle": "2024-07-16T01:31:19.358830Z",
     "shell.execute_reply": "2024-07-16T01:31:19.357877Z"
    },
    "papermill": {
     "duration": 0.044497,
     "end_time": "2024-07-16T01:31:19.360721",
     "exception": false,
     "start_time": "2024-07-16T01:31:19.316224",
     "status": "completed"
    },
    "tags": []
   },
   "outputs": [
    {
     "data": {
      "text/html": [
       "<div>\n",
       "<style scoped>\n",
       "    .dataframe tbody tr th:only-of-type {\n",
       "        vertical-align: middle;\n",
       "    }\n",
       "\n",
       "    .dataframe tbody tr th {\n",
       "        vertical-align: top;\n",
       "    }\n",
       "\n",
       "    .dataframe thead th {\n",
       "        text-align: right;\n",
       "    }\n",
       "</style>\n",
       "<table border=\"1\" class=\"dataframe\">\n",
       "  <thead>\n",
       "    <tr style=\"text-align: right;\">\n",
       "      <th></th>\n",
       "      <th>id</th>\n",
       "      <th>side</th>\n",
       "      <th>subset</th>\n",
       "      <th>filename</th>\n",
       "      <th>kl_grade</th>\n",
       "      <th>osteophytes</th>\n",
       "      <th>jsn</th>\n",
       "      <th>osfl</th>\n",
       "      <th>scfl</th>\n",
       "      <th>cyfl</th>\n",
       "      <th>...</th>\n",
       "      <th>cytm</th>\n",
       "      <th>attm</th>\n",
       "      <th>osfm</th>\n",
       "      <th>scfm</th>\n",
       "      <th>cyfm</th>\n",
       "      <th>ostl</th>\n",
       "      <th>sctl</th>\n",
       "      <th>cytl</th>\n",
       "      <th>attl</th>\n",
       "      <th>actual_path</th>\n",
       "    </tr>\n",
       "  </thead>\n",
       "  <tbody>\n",
       "    <tr>\n",
       "      <th>0</th>\n",
       "      <td>9000099</td>\n",
       "      <td>L</td>\n",
       "      <td>train</td>\n",
       "      <td>9000099L.png</td>\n",
       "      <td>3</td>\n",
       "      <td>def</td>\n",
       "      <td>severe</td>\n",
       "      <td>2.0</td>\n",
       "      <td>2.0</td>\n",
       "      <td>0.0</td>\n",
       "      <td>...</td>\n",
       "      <td>1.0</td>\n",
       "      <td>0.0</td>\n",
       "      <td>0.0</td>\n",
       "      <td>0.0</td>\n",
       "      <td>0.0</td>\n",
       "      <td>1.0</td>\n",
       "      <td>2.0</td>\n",
       "      <td>0.0</td>\n",
       "      <td>0.0</td>\n",
       "      <td>/kaggle/input/knee-osteoarthritis-dataset-with...</td>\n",
       "    </tr>\n",
       "    <tr>\n",
       "      <th>1</th>\n",
       "      <td>9000099</td>\n",
       "      <td>R</td>\n",
       "      <td>train</td>\n",
       "      <td>9000099R.png</td>\n",
       "      <td>2</td>\n",
       "      <td>def</td>\n",
       "      <td>mild/mod</td>\n",
       "      <td>2.0</td>\n",
       "      <td>0.0</td>\n",
       "      <td>0.0</td>\n",
       "      <td>...</td>\n",
       "      <td>0.0</td>\n",
       "      <td>0.0</td>\n",
       "      <td>0.0</td>\n",
       "      <td>0.0</td>\n",
       "      <td>0.0</td>\n",
       "      <td>1.0</td>\n",
       "      <td>0.0</td>\n",
       "      <td>0.0</td>\n",
       "      <td>0.0</td>\n",
       "      <td>/kaggle/input/knee-osteoarthritis-dataset-with...</td>\n",
       "    </tr>\n",
       "    <tr>\n",
       "      <th>2</th>\n",
       "      <td>9000296</td>\n",
       "      <td>L</td>\n",
       "      <td>train</td>\n",
       "      <td>9000296L.png</td>\n",
       "      <td>3</td>\n",
       "      <td>poss</td>\n",
       "      <td>def</td>\n",
       "      <td>0.0</td>\n",
       "      <td>0.0</td>\n",
       "      <td>0.0</td>\n",
       "      <td>...</td>\n",
       "      <td>0.0</td>\n",
       "      <td>0.0</td>\n",
       "      <td>0.0</td>\n",
       "      <td>0.0</td>\n",
       "      <td>0.0</td>\n",
       "      <td>0.0</td>\n",
       "      <td>0.0</td>\n",
       "      <td>0.0</td>\n",
       "      <td>0.0</td>\n",
       "      <td>/kaggle/input/knee-osteoarthritis-dataset-with...</td>\n",
       "    </tr>\n",
       "    <tr>\n",
       "      <th>3</th>\n",
       "      <td>9000296</td>\n",
       "      <td>R</td>\n",
       "      <td>train</td>\n",
       "      <td>9000296R.png</td>\n",
       "      <td>2</td>\n",
       "      <td>def</td>\n",
       "      <td>none</td>\n",
       "      <td>0.0</td>\n",
       "      <td>0.0</td>\n",
       "      <td>0.0</td>\n",
       "      <td>...</td>\n",
       "      <td>0.0</td>\n",
       "      <td>0.0</td>\n",
       "      <td>0.0</td>\n",
       "      <td>0.0</td>\n",
       "      <td>0.0</td>\n",
       "      <td>0.0</td>\n",
       "      <td>0.0</td>\n",
       "      <td>0.0</td>\n",
       "      <td>0.0</td>\n",
       "      <td>/kaggle/input/knee-osteoarthritis-dataset-with...</td>\n",
       "    </tr>\n",
       "    <tr>\n",
       "      <th>4</th>\n",
       "      <td>9000622</td>\n",
       "      <td>L</td>\n",
       "      <td>train</td>\n",
       "      <td>9000622L.png</td>\n",
       "      <td>1</td>\n",
       "      <td>none</td>\n",
       "      <td>none</td>\n",
       "      <td>0.0</td>\n",
       "      <td>0.0</td>\n",
       "      <td>0.0</td>\n",
       "      <td>...</td>\n",
       "      <td>0.0</td>\n",
       "      <td>0.0</td>\n",
       "      <td>0.0</td>\n",
       "      <td>0.0</td>\n",
       "      <td>0.0</td>\n",
       "      <td>0.0</td>\n",
       "      <td>0.0</td>\n",
       "      <td>0.0</td>\n",
       "      <td>0.0</td>\n",
       "      <td>/kaggle/input/knee-osteoarthritis-dataset-with...</td>\n",
       "    </tr>\n",
       "  </tbody>\n",
       "</table>\n",
       "<p>5 rows × 22 columns</p>\n",
       "</div>"
      ],
      "text/plain": [
       "        id side subset      filename  kl_grade osteophytes       jsn  osfl  \\\n",
       "0  9000099    L  train  9000099L.png         3         def    severe   2.0   \n",
       "1  9000099    R  train  9000099R.png         2         def  mild/mod   2.0   \n",
       "2  9000296    L  train  9000296L.png         3        poss       def   0.0   \n",
       "3  9000296    R  train  9000296R.png         2         def      none   0.0   \n",
       "4  9000622    L  train  9000622L.png         1        none      none   0.0   \n",
       "\n",
       "   scfl  cyfl  ...  cytm  attm  osfm  scfm  cyfm  ostl  sctl  cytl  attl  \\\n",
       "0   2.0   0.0  ...   1.0   0.0   0.0   0.0   0.0   1.0   2.0   0.0   0.0   \n",
       "1   0.0   0.0  ...   0.0   0.0   0.0   0.0   0.0   1.0   0.0   0.0   0.0   \n",
       "2   0.0   0.0  ...   0.0   0.0   0.0   0.0   0.0   0.0   0.0   0.0   0.0   \n",
       "3   0.0   0.0  ...   0.0   0.0   0.0   0.0   0.0   0.0   0.0   0.0   0.0   \n",
       "4   0.0   0.0  ...   0.0   0.0   0.0   0.0   0.0   0.0   0.0   0.0   0.0   \n",
       "\n",
       "                                         actual_path  \n",
       "0  /kaggle/input/knee-osteoarthritis-dataset-with...  \n",
       "1  /kaggle/input/knee-osteoarthritis-dataset-with...  \n",
       "2  /kaggle/input/knee-osteoarthritis-dataset-with...  \n",
       "3  /kaggle/input/knee-osteoarthritis-dataset-with...  \n",
       "4  /kaggle/input/knee-osteoarthritis-dataset-with...  \n",
       "\n",
       "[5 rows x 22 columns]"
      ]
     },
     "execution_count": 6,
     "metadata": {},
     "output_type": "execute_result"
    }
   ],
   "source": [
    "df.head(5)"
   ]
  },
  {
   "cell_type": "code",
   "execution_count": 7,
   "id": "bf4cfacb",
   "metadata": {
    "execution": {
     "iopub.execute_input": "2024-07-16T01:31:19.390324Z",
     "iopub.status.busy": "2024-07-16T01:31:19.389693Z",
     "iopub.status.idle": "2024-07-16T01:31:19.409866Z",
     "shell.execute_reply": "2024-07-16T01:31:19.408908Z"
    },
    "papermill": {
     "duration": 0.037019,
     "end_time": "2024-07-16T01:31:19.411768",
     "exception": false,
     "start_time": "2024-07-16T01:31:19.374749",
     "status": "completed"
    },
    "tags": []
   },
   "outputs": [
    {
     "data": {
      "text/plain": [
       "{'kl_grade': [0, 1, 2, 3, 4],\n",
       " 'osteophytes': ['def', 'none', 'poss'],\n",
       " 'jsn': ['def', 'mild/mod', 'none', 'severe'],\n",
       " 'osfl': [0.0, 1.0, 2.0, 3.0],\n",
       " 'scfl': [0.0, 1.0, 2.0, 3.0],\n",
       " 'ostm': [0.0, 1.0, 2.0, 3.0],\n",
       " 'sctm': [0.0, 1.0, 2.0, 3.0],\n",
       " 'osfm': [0.0, 1.0, 2.0, 3.0],\n",
       " 'scfm': [0.0, 1.0, 2.0, 3.0],\n",
       " 'ostl': [0.0, 1.0, 2.0, 3.0],\n",
       " 'sctl': [0.0, 1.0, 2.0, 3.0]}"
      ]
     },
     "execution_count": 7,
     "metadata": {},
     "output_type": "execute_result"
    }
   ],
   "source": [
    "TARGET_COLS = df.columns[4:-1].tolist()\n",
    "TARGET_COLS = [c for c in TARGET_COLS if not (c.startswith(\"cy\") or c.startswith(\"at\"))]\n",
    "# TARGET_COLS = ['kl_grade', 'osteophytes', 'jsn']\n",
    "# part = 'sctm'\n",
    "# TARGET_COLS = [part]\n",
    "target_values = {c:np.sort(df[c].dropna().unique()).tolist() for c in TARGET_COLS}\n",
    "target_values"
   ]
  },
  {
   "cell_type": "code",
   "execution_count": 8,
   "id": "3ca5fcf0",
   "metadata": {
    "execution": {
     "iopub.execute_input": "2024-07-16T01:31:19.443724Z",
     "iopub.status.busy": "2024-07-16T01:31:19.443011Z",
     "iopub.status.idle": "2024-07-16T01:31:19.466252Z",
     "shell.execute_reply": "2024-07-16T01:31:19.465230Z"
    },
    "papermill": {
     "duration": 0.041152,
     "end_time": "2024-07-16T01:31:19.468492",
     "exception": false,
     "start_time": "2024-07-16T01:31:19.427340",
     "status": "completed"
    },
    "tags": []
   },
   "outputs": [
    {
     "data": {
      "text/html": [
       "<style>#sk-container-id-1 {\n",
       "  /* Definition of color scheme common for light and dark mode */\n",
       "  --sklearn-color-text: black;\n",
       "  --sklearn-color-line: gray;\n",
       "  /* Definition of color scheme for unfitted estimators */\n",
       "  --sklearn-color-unfitted-level-0: #fff5e6;\n",
       "  --sklearn-color-unfitted-level-1: #f6e4d2;\n",
       "  --sklearn-color-unfitted-level-2: #ffe0b3;\n",
       "  --sklearn-color-unfitted-level-3: chocolate;\n",
       "  /* Definition of color scheme for fitted estimators */\n",
       "  --sklearn-color-fitted-level-0: #f0f8ff;\n",
       "  --sklearn-color-fitted-level-1: #d4ebff;\n",
       "  --sklearn-color-fitted-level-2: #b3dbfd;\n",
       "  --sklearn-color-fitted-level-3: cornflowerblue;\n",
       "\n",
       "  /* Specific color for light theme */\n",
       "  --sklearn-color-text-on-default-background: var(--sg-text-color, var(--theme-code-foreground, var(--jp-content-font-color1, black)));\n",
       "  --sklearn-color-background: var(--sg-background-color, var(--theme-background, var(--jp-layout-color0, white)));\n",
       "  --sklearn-color-border-box: var(--sg-text-color, var(--theme-code-foreground, var(--jp-content-font-color1, black)));\n",
       "  --sklearn-color-icon: #696969;\n",
       "\n",
       "  @media (prefers-color-scheme: dark) {\n",
       "    /* Redefinition of color scheme for dark theme */\n",
       "    --sklearn-color-text-on-default-background: var(--sg-text-color, var(--theme-code-foreground, var(--jp-content-font-color1, white)));\n",
       "    --sklearn-color-background: var(--sg-background-color, var(--theme-background, var(--jp-layout-color0, #111)));\n",
       "    --sklearn-color-border-box: var(--sg-text-color, var(--theme-code-foreground, var(--jp-content-font-color1, white)));\n",
       "    --sklearn-color-icon: #878787;\n",
       "  }\n",
       "}\n",
       "\n",
       "#sk-container-id-1 {\n",
       "  color: var(--sklearn-color-text);\n",
       "}\n",
       "\n",
       "#sk-container-id-1 pre {\n",
       "  padding: 0;\n",
       "}\n",
       "\n",
       "#sk-container-id-1 input.sk-hidden--visually {\n",
       "  border: 0;\n",
       "  clip: rect(1px 1px 1px 1px);\n",
       "  clip: rect(1px, 1px, 1px, 1px);\n",
       "  height: 1px;\n",
       "  margin: -1px;\n",
       "  overflow: hidden;\n",
       "  padding: 0;\n",
       "  position: absolute;\n",
       "  width: 1px;\n",
       "}\n",
       "\n",
       "#sk-container-id-1 div.sk-dashed-wrapped {\n",
       "  border: 1px dashed var(--sklearn-color-line);\n",
       "  margin: 0 0.4em 0.5em 0.4em;\n",
       "  box-sizing: border-box;\n",
       "  padding-bottom: 0.4em;\n",
       "  background-color: var(--sklearn-color-background);\n",
       "}\n",
       "\n",
       "#sk-container-id-1 div.sk-container {\n",
       "  /* jupyter's `normalize.less` sets `[hidden] { display: none; }`\n",
       "     but bootstrap.min.css set `[hidden] { display: none !important; }`\n",
       "     so we also need the `!important` here to be able to override the\n",
       "     default hidden behavior on the sphinx rendered scikit-learn.org.\n",
       "     See: https://github.com/scikit-learn/scikit-learn/issues/21755 */\n",
       "  display: inline-block !important;\n",
       "  position: relative;\n",
       "}\n",
       "\n",
       "#sk-container-id-1 div.sk-text-repr-fallback {\n",
       "  display: none;\n",
       "}\n",
       "\n",
       "div.sk-parallel-item,\n",
       "div.sk-serial,\n",
       "div.sk-item {\n",
       "  /* draw centered vertical line to link estimators */\n",
       "  background-image: linear-gradient(var(--sklearn-color-text-on-default-background), var(--sklearn-color-text-on-default-background));\n",
       "  background-size: 2px 100%;\n",
       "  background-repeat: no-repeat;\n",
       "  background-position: center center;\n",
       "}\n",
       "\n",
       "/* Parallel-specific style estimator block */\n",
       "\n",
       "#sk-container-id-1 div.sk-parallel-item::after {\n",
       "  content: \"\";\n",
       "  width: 100%;\n",
       "  border-bottom: 2px solid var(--sklearn-color-text-on-default-background);\n",
       "  flex-grow: 1;\n",
       "}\n",
       "\n",
       "#sk-container-id-1 div.sk-parallel {\n",
       "  display: flex;\n",
       "  align-items: stretch;\n",
       "  justify-content: center;\n",
       "  background-color: var(--sklearn-color-background);\n",
       "  position: relative;\n",
       "}\n",
       "\n",
       "#sk-container-id-1 div.sk-parallel-item {\n",
       "  display: flex;\n",
       "  flex-direction: column;\n",
       "}\n",
       "\n",
       "#sk-container-id-1 div.sk-parallel-item:first-child::after {\n",
       "  align-self: flex-end;\n",
       "  width: 50%;\n",
       "}\n",
       "\n",
       "#sk-container-id-1 div.sk-parallel-item:last-child::after {\n",
       "  align-self: flex-start;\n",
       "  width: 50%;\n",
       "}\n",
       "\n",
       "#sk-container-id-1 div.sk-parallel-item:only-child::after {\n",
       "  width: 0;\n",
       "}\n",
       "\n",
       "/* Serial-specific style estimator block */\n",
       "\n",
       "#sk-container-id-1 div.sk-serial {\n",
       "  display: flex;\n",
       "  flex-direction: column;\n",
       "  align-items: center;\n",
       "  background-color: var(--sklearn-color-background);\n",
       "  padding-right: 1em;\n",
       "  padding-left: 1em;\n",
       "}\n",
       "\n",
       "\n",
       "/* Toggleable style: style used for estimator/Pipeline/ColumnTransformer box that is\n",
       "clickable and can be expanded/collapsed.\n",
       "- Pipeline and ColumnTransformer use this feature and define the default style\n",
       "- Estimators will overwrite some part of the style using the `sk-estimator` class\n",
       "*/\n",
       "\n",
       "/* Pipeline and ColumnTransformer style (default) */\n",
       "\n",
       "#sk-container-id-1 div.sk-toggleable {\n",
       "  /* Default theme specific background. It is overwritten whether we have a\n",
       "  specific estimator or a Pipeline/ColumnTransformer */\n",
       "  background-color: var(--sklearn-color-background);\n",
       "}\n",
       "\n",
       "/* Toggleable label */\n",
       "#sk-container-id-1 label.sk-toggleable__label {\n",
       "  cursor: pointer;\n",
       "  display: block;\n",
       "  width: 100%;\n",
       "  margin-bottom: 0;\n",
       "  padding: 0.5em;\n",
       "  box-sizing: border-box;\n",
       "  text-align: center;\n",
       "}\n",
       "\n",
       "#sk-container-id-1 label.sk-toggleable__label-arrow:before {\n",
       "  /* Arrow on the left of the label */\n",
       "  content: \"▸\";\n",
       "  float: left;\n",
       "  margin-right: 0.25em;\n",
       "  color: var(--sklearn-color-icon);\n",
       "}\n",
       "\n",
       "#sk-container-id-1 label.sk-toggleable__label-arrow:hover:before {\n",
       "  color: var(--sklearn-color-text);\n",
       "}\n",
       "\n",
       "/* Toggleable content - dropdown */\n",
       "\n",
       "#sk-container-id-1 div.sk-toggleable__content {\n",
       "  max-height: 0;\n",
       "  max-width: 0;\n",
       "  overflow: hidden;\n",
       "  text-align: left;\n",
       "  /* unfitted */\n",
       "  background-color: var(--sklearn-color-unfitted-level-0);\n",
       "}\n",
       "\n",
       "#sk-container-id-1 div.sk-toggleable__content.fitted {\n",
       "  /* fitted */\n",
       "  background-color: var(--sklearn-color-fitted-level-0);\n",
       "}\n",
       "\n",
       "#sk-container-id-1 div.sk-toggleable__content pre {\n",
       "  margin: 0.2em;\n",
       "  border-radius: 0.25em;\n",
       "  color: var(--sklearn-color-text);\n",
       "  /* unfitted */\n",
       "  background-color: var(--sklearn-color-unfitted-level-0);\n",
       "}\n",
       "\n",
       "#sk-container-id-1 div.sk-toggleable__content.fitted pre {\n",
       "  /* unfitted */\n",
       "  background-color: var(--sklearn-color-fitted-level-0);\n",
       "}\n",
       "\n",
       "#sk-container-id-1 input.sk-toggleable__control:checked~div.sk-toggleable__content {\n",
       "  /* Expand drop-down */\n",
       "  max-height: 200px;\n",
       "  max-width: 100%;\n",
       "  overflow: auto;\n",
       "}\n",
       "\n",
       "#sk-container-id-1 input.sk-toggleable__control:checked~label.sk-toggleable__label-arrow:before {\n",
       "  content: \"▾\";\n",
       "}\n",
       "\n",
       "/* Pipeline/ColumnTransformer-specific style */\n",
       "\n",
       "#sk-container-id-1 div.sk-label input.sk-toggleable__control:checked~label.sk-toggleable__label {\n",
       "  color: var(--sklearn-color-text);\n",
       "  background-color: var(--sklearn-color-unfitted-level-2);\n",
       "}\n",
       "\n",
       "#sk-container-id-1 div.sk-label.fitted input.sk-toggleable__control:checked~label.sk-toggleable__label {\n",
       "  background-color: var(--sklearn-color-fitted-level-2);\n",
       "}\n",
       "\n",
       "/* Estimator-specific style */\n",
       "\n",
       "/* Colorize estimator box */\n",
       "#sk-container-id-1 div.sk-estimator input.sk-toggleable__control:checked~label.sk-toggleable__label {\n",
       "  /* unfitted */\n",
       "  background-color: var(--sklearn-color-unfitted-level-2);\n",
       "}\n",
       "\n",
       "#sk-container-id-1 div.sk-estimator.fitted input.sk-toggleable__control:checked~label.sk-toggleable__label {\n",
       "  /* fitted */\n",
       "  background-color: var(--sklearn-color-fitted-level-2);\n",
       "}\n",
       "\n",
       "#sk-container-id-1 div.sk-label label.sk-toggleable__label,\n",
       "#sk-container-id-1 div.sk-label label {\n",
       "  /* The background is the default theme color */\n",
       "  color: var(--sklearn-color-text-on-default-background);\n",
       "}\n",
       "\n",
       "/* On hover, darken the color of the background */\n",
       "#sk-container-id-1 div.sk-label:hover label.sk-toggleable__label {\n",
       "  color: var(--sklearn-color-text);\n",
       "  background-color: var(--sklearn-color-unfitted-level-2);\n",
       "}\n",
       "\n",
       "/* Label box, darken color on hover, fitted */\n",
       "#sk-container-id-1 div.sk-label.fitted:hover label.sk-toggleable__label.fitted {\n",
       "  color: var(--sklearn-color-text);\n",
       "  background-color: var(--sklearn-color-fitted-level-2);\n",
       "}\n",
       "\n",
       "/* Estimator label */\n",
       "\n",
       "#sk-container-id-1 div.sk-label label {\n",
       "  font-family: monospace;\n",
       "  font-weight: bold;\n",
       "  display: inline-block;\n",
       "  line-height: 1.2em;\n",
       "}\n",
       "\n",
       "#sk-container-id-1 div.sk-label-container {\n",
       "  text-align: center;\n",
       "}\n",
       "\n",
       "/* Estimator-specific */\n",
       "#sk-container-id-1 div.sk-estimator {\n",
       "  font-family: monospace;\n",
       "  border: 1px dotted var(--sklearn-color-border-box);\n",
       "  border-radius: 0.25em;\n",
       "  box-sizing: border-box;\n",
       "  margin-bottom: 0.5em;\n",
       "  /* unfitted */\n",
       "  background-color: var(--sklearn-color-unfitted-level-0);\n",
       "}\n",
       "\n",
       "#sk-container-id-1 div.sk-estimator.fitted {\n",
       "  /* fitted */\n",
       "  background-color: var(--sklearn-color-fitted-level-0);\n",
       "}\n",
       "\n",
       "/* on hover */\n",
       "#sk-container-id-1 div.sk-estimator:hover {\n",
       "  /* unfitted */\n",
       "  background-color: var(--sklearn-color-unfitted-level-2);\n",
       "}\n",
       "\n",
       "#sk-container-id-1 div.sk-estimator.fitted:hover {\n",
       "  /* fitted */\n",
       "  background-color: var(--sklearn-color-fitted-level-2);\n",
       "}\n",
       "\n",
       "/* Specification for estimator info (e.g. \"i\" and \"?\") */\n",
       "\n",
       "/* Common style for \"i\" and \"?\" */\n",
       "\n",
       ".sk-estimator-doc-link,\n",
       "a:link.sk-estimator-doc-link,\n",
       "a:visited.sk-estimator-doc-link {\n",
       "  float: right;\n",
       "  font-size: smaller;\n",
       "  line-height: 1em;\n",
       "  font-family: monospace;\n",
       "  background-color: var(--sklearn-color-background);\n",
       "  border-radius: 1em;\n",
       "  height: 1em;\n",
       "  width: 1em;\n",
       "  text-decoration: none !important;\n",
       "  margin-left: 1ex;\n",
       "  /* unfitted */\n",
       "  border: var(--sklearn-color-unfitted-level-1) 1pt solid;\n",
       "  color: var(--sklearn-color-unfitted-level-1);\n",
       "}\n",
       "\n",
       ".sk-estimator-doc-link.fitted,\n",
       "a:link.sk-estimator-doc-link.fitted,\n",
       "a:visited.sk-estimator-doc-link.fitted {\n",
       "  /* fitted */\n",
       "  border: var(--sklearn-color-fitted-level-1) 1pt solid;\n",
       "  color: var(--sklearn-color-fitted-level-1);\n",
       "}\n",
       "\n",
       "/* On hover */\n",
       "div.sk-estimator:hover .sk-estimator-doc-link:hover,\n",
       ".sk-estimator-doc-link:hover,\n",
       "div.sk-label-container:hover .sk-estimator-doc-link:hover,\n",
       ".sk-estimator-doc-link:hover {\n",
       "  /* unfitted */\n",
       "  background-color: var(--sklearn-color-unfitted-level-3);\n",
       "  color: var(--sklearn-color-background);\n",
       "  text-decoration: none;\n",
       "}\n",
       "\n",
       "div.sk-estimator.fitted:hover .sk-estimator-doc-link.fitted:hover,\n",
       ".sk-estimator-doc-link.fitted:hover,\n",
       "div.sk-label-container:hover .sk-estimator-doc-link.fitted:hover,\n",
       ".sk-estimator-doc-link.fitted:hover {\n",
       "  /* fitted */\n",
       "  background-color: var(--sklearn-color-fitted-level-3);\n",
       "  color: var(--sklearn-color-background);\n",
       "  text-decoration: none;\n",
       "}\n",
       "\n",
       "/* Span, style for the box shown on hovering the info icon */\n",
       ".sk-estimator-doc-link span {\n",
       "  display: none;\n",
       "  z-index: 9999;\n",
       "  position: relative;\n",
       "  font-weight: normal;\n",
       "  right: .2ex;\n",
       "  padding: .5ex;\n",
       "  margin: .5ex;\n",
       "  width: min-content;\n",
       "  min-width: 20ex;\n",
       "  max-width: 50ex;\n",
       "  color: var(--sklearn-color-text);\n",
       "  box-shadow: 2pt 2pt 4pt #999;\n",
       "  /* unfitted */\n",
       "  background: var(--sklearn-color-unfitted-level-0);\n",
       "  border: .5pt solid var(--sklearn-color-unfitted-level-3);\n",
       "}\n",
       "\n",
       ".sk-estimator-doc-link.fitted span {\n",
       "  /* fitted */\n",
       "  background: var(--sklearn-color-fitted-level-0);\n",
       "  border: var(--sklearn-color-fitted-level-3);\n",
       "}\n",
       "\n",
       ".sk-estimator-doc-link:hover span {\n",
       "  display: block;\n",
       "}\n",
       "\n",
       "/* \"?\"-specific style due to the `<a>` HTML tag */\n",
       "\n",
       "#sk-container-id-1 a.estimator_doc_link {\n",
       "  float: right;\n",
       "  font-size: 1rem;\n",
       "  line-height: 1em;\n",
       "  font-family: monospace;\n",
       "  background-color: var(--sklearn-color-background);\n",
       "  border-radius: 1rem;\n",
       "  height: 1rem;\n",
       "  width: 1rem;\n",
       "  text-decoration: none;\n",
       "  /* unfitted */\n",
       "  color: var(--sklearn-color-unfitted-level-1);\n",
       "  border: var(--sklearn-color-unfitted-level-1) 1pt solid;\n",
       "}\n",
       "\n",
       "#sk-container-id-1 a.estimator_doc_link.fitted {\n",
       "  /* fitted */\n",
       "  border: var(--sklearn-color-fitted-level-1) 1pt solid;\n",
       "  color: var(--sklearn-color-fitted-level-1);\n",
       "}\n",
       "\n",
       "/* On hover */\n",
       "#sk-container-id-1 a.estimator_doc_link:hover {\n",
       "  /* unfitted */\n",
       "  background-color: var(--sklearn-color-unfitted-level-3);\n",
       "  color: var(--sklearn-color-background);\n",
       "  text-decoration: none;\n",
       "}\n",
       "\n",
       "#sk-container-id-1 a.estimator_doc_link.fitted:hover {\n",
       "  /* fitted */\n",
       "  background-color: var(--sklearn-color-fitted-level-3);\n",
       "}\n",
       "</style><div id=\"sk-container-id-1\" class=\"sk-top-container\"><div class=\"sk-text-repr-fallback\"><pre>OneHotEncoder(categories=[[0, 1, 2, 3, 4], [&#x27;def&#x27;, &#x27;none&#x27;, &#x27;poss&#x27;],\n",
       "                          [&#x27;def&#x27;, &#x27;mild/mod&#x27;, &#x27;none&#x27;, &#x27;severe&#x27;],\n",
       "                          [0.0, 1.0, 2.0, 3.0], [0.0, 1.0, 2.0, 3.0],\n",
       "                          [0.0, 1.0, 2.0, 3.0], [0.0, 1.0, 2.0, 3.0],\n",
       "                          [0.0, 1.0, 2.0, 3.0], [0.0, 1.0, 2.0, 3.0],\n",
       "                          [0.0, 1.0, 2.0, 3.0], [0.0, 1.0, 2.0, 3.0]])</pre><b>In a Jupyter environment, please rerun this cell to show the HTML representation or trust the notebook. <br />On GitHub, the HTML representation is unable to render, please try loading this page with nbviewer.org.</b></div><div class=\"sk-container\" hidden><div class=\"sk-item\"><div class=\"sk-estimator fitted sk-toggleable\"><input class=\"sk-toggleable__control sk-hidden--visually\" id=\"sk-estimator-id-1\" type=\"checkbox\" checked><label for=\"sk-estimator-id-1\" class=\"sk-toggleable__label fitted sk-toggleable__label-arrow fitted\">&nbsp;&nbsp;OneHotEncoder<a class=\"sk-estimator-doc-link fitted\" rel=\"noreferrer\" target=\"_blank\" href=\"https://scikit-learn.org/1.5/modules/generated/sklearn.preprocessing.OneHotEncoder.html\">?<span>Documentation for OneHotEncoder</span></a><span class=\"sk-estimator-doc-link fitted\">i<span>Fitted</span></span></label><div class=\"sk-toggleable__content fitted\"><pre>OneHotEncoder(categories=[[0, 1, 2, 3, 4], [&#x27;def&#x27;, &#x27;none&#x27;, &#x27;poss&#x27;],\n",
       "                          [&#x27;def&#x27;, &#x27;mild/mod&#x27;, &#x27;none&#x27;, &#x27;severe&#x27;],\n",
       "                          [0.0, 1.0, 2.0, 3.0], [0.0, 1.0, 2.0, 3.0],\n",
       "                          [0.0, 1.0, 2.0, 3.0], [0.0, 1.0, 2.0, 3.0],\n",
       "                          [0.0, 1.0, 2.0, 3.0], [0.0, 1.0, 2.0, 3.0],\n",
       "                          [0.0, 1.0, 2.0, 3.0], [0.0, 1.0, 2.0, 3.0]])</pre></div> </div></div></div></div>"
      ],
      "text/plain": [
       "OneHotEncoder(categories=[[0, 1, 2, 3, 4], ['def', 'none', 'poss'],\n",
       "                          ['def', 'mild/mod', 'none', 'severe'],\n",
       "                          [0.0, 1.0, 2.0, 3.0], [0.0, 1.0, 2.0, 3.0],\n",
       "                          [0.0, 1.0, 2.0, 3.0], [0.0, 1.0, 2.0, 3.0],\n",
       "                          [0.0, 1.0, 2.0, 3.0], [0.0, 1.0, 2.0, 3.0],\n",
       "                          [0.0, 1.0, 2.0, 3.0], [0.0, 1.0, 2.0, 3.0]])"
      ]
     },
     "execution_count": 8,
     "metadata": {},
     "output_type": "execute_result"
    }
   ],
   "source": [
    "onehot = OneHotEncoder(categories=list(target_values.values()))\n",
    "onehot.fit(df[TARGET_COLS].dropna())"
   ]
  },
  {
   "cell_type": "code",
   "execution_count": 9,
   "id": "70b8e925",
   "metadata": {
    "execution": {
     "iopub.execute_input": "2024-07-16T01:31:19.500804Z",
     "iopub.status.busy": "2024-07-16T01:31:19.500214Z",
     "iopub.status.idle": "2024-07-16T01:31:19.521637Z",
     "shell.execute_reply": "2024-07-16T01:31:19.520763Z"
    },
    "papermill": {
     "duration": 0.039883,
     "end_time": "2024-07-16T01:31:19.523967",
     "exception": false,
     "start_time": "2024-07-16T01:31:19.484084",
     "status": "completed"
    },
    "tags": []
   },
   "outputs": [
    {
     "data": {
      "text/html": [
       "<div>\n",
       "<style scoped>\n",
       "    .dataframe tbody tr th:only-of-type {\n",
       "        vertical-align: middle;\n",
       "    }\n",
       "\n",
       "    .dataframe tbody tr th {\n",
       "        vertical-align: top;\n",
       "    }\n",
       "\n",
       "    .dataframe thead th {\n",
       "        text-align: right;\n",
       "    }\n",
       "</style>\n",
       "<table border=\"1\" class=\"dataframe\">\n",
       "  <thead>\n",
       "    <tr style=\"text-align: right;\">\n",
       "      <th></th>\n",
       "      <th>kl_grade</th>\n",
       "      <th>osteophytes</th>\n",
       "      <th>jsn</th>\n",
       "      <th>osfl</th>\n",
       "      <th>scfl</th>\n",
       "      <th>ostm</th>\n",
       "      <th>sctm</th>\n",
       "      <th>osfm</th>\n",
       "      <th>scfm</th>\n",
       "      <th>ostl</th>\n",
       "      <th>sctl</th>\n",
       "    </tr>\n",
       "  </thead>\n",
       "  <tbody>\n",
       "    <tr>\n",
       "      <th>8</th>\n",
       "      <td>True</td>\n",
       "      <td>True</td>\n",
       "      <td>True</td>\n",
       "      <td>False</td>\n",
       "      <td>False</td>\n",
       "      <td>False</td>\n",
       "      <td>False</td>\n",
       "      <td>False</td>\n",
       "      <td>False</td>\n",
       "      <td>False</td>\n",
       "      <td>False</td>\n",
       "    </tr>\n",
       "    <tr>\n",
       "      <th>9</th>\n",
       "      <td>True</td>\n",
       "      <td>True</td>\n",
       "      <td>True</td>\n",
       "      <td>False</td>\n",
       "      <td>False</td>\n",
       "      <td>False</td>\n",
       "      <td>False</td>\n",
       "      <td>False</td>\n",
       "      <td>False</td>\n",
       "      <td>False</td>\n",
       "      <td>False</td>\n",
       "    </tr>\n",
       "    <tr>\n",
       "      <th>26</th>\n",
       "      <td>True</td>\n",
       "      <td>True</td>\n",
       "      <td>True</td>\n",
       "      <td>False</td>\n",
       "      <td>False</td>\n",
       "      <td>False</td>\n",
       "      <td>False</td>\n",
       "      <td>False</td>\n",
       "      <td>False</td>\n",
       "      <td>False</td>\n",
       "      <td>False</td>\n",
       "    </tr>\n",
       "    <tr>\n",
       "      <th>27</th>\n",
       "      <td>True</td>\n",
       "      <td>True</td>\n",
       "      <td>True</td>\n",
       "      <td>False</td>\n",
       "      <td>False</td>\n",
       "      <td>False</td>\n",
       "      <td>False</td>\n",
       "      <td>False</td>\n",
       "      <td>False</td>\n",
       "      <td>False</td>\n",
       "      <td>False</td>\n",
       "    </tr>\n",
       "    <tr>\n",
       "      <th>28</th>\n",
       "      <td>True</td>\n",
       "      <td>True</td>\n",
       "      <td>True</td>\n",
       "      <td>True</td>\n",
       "      <td>True</td>\n",
       "      <td>True</td>\n",
       "      <td>True</td>\n",
       "      <td>True</td>\n",
       "      <td>True</td>\n",
       "      <td>True</td>\n",
       "      <td>True</td>\n",
       "    </tr>\n",
       "    <tr>\n",
       "      <th>...</th>\n",
       "      <td>...</td>\n",
       "      <td>...</td>\n",
       "      <td>...</td>\n",
       "      <td>...</td>\n",
       "      <td>...</td>\n",
       "      <td>...</td>\n",
       "      <td>...</td>\n",
       "      <td>...</td>\n",
       "      <td>...</td>\n",
       "      <td>...</td>\n",
       "      <td>...</td>\n",
       "    </tr>\n",
       "    <tr>\n",
       "      <th>8245</th>\n",
       "      <td>True</td>\n",
       "      <td>True</td>\n",
       "      <td>True</td>\n",
       "      <td>True</td>\n",
       "      <td>True</td>\n",
       "      <td>True</td>\n",
       "      <td>True</td>\n",
       "      <td>True</td>\n",
       "      <td>True</td>\n",
       "      <td>True</td>\n",
       "      <td>True</td>\n",
       "    </tr>\n",
       "    <tr>\n",
       "      <th>8246</th>\n",
       "      <td>True</td>\n",
       "      <td>True</td>\n",
       "      <td>True</td>\n",
       "      <td>True</td>\n",
       "      <td>True</td>\n",
       "      <td>True</td>\n",
       "      <td>True</td>\n",
       "      <td>True</td>\n",
       "      <td>True</td>\n",
       "      <td>True</td>\n",
       "      <td>True</td>\n",
       "    </tr>\n",
       "    <tr>\n",
       "      <th>8247</th>\n",
       "      <td>True</td>\n",
       "      <td>True</td>\n",
       "      <td>True</td>\n",
       "      <td>True</td>\n",
       "      <td>True</td>\n",
       "      <td>True</td>\n",
       "      <td>True</td>\n",
       "      <td>True</td>\n",
       "      <td>True</td>\n",
       "      <td>True</td>\n",
       "      <td>True</td>\n",
       "    </tr>\n",
       "    <tr>\n",
       "      <th>8254</th>\n",
       "      <td>True</td>\n",
       "      <td>True</td>\n",
       "      <td>True</td>\n",
       "      <td>True</td>\n",
       "      <td>True</td>\n",
       "      <td>True</td>\n",
       "      <td>True</td>\n",
       "      <td>True</td>\n",
       "      <td>True</td>\n",
       "      <td>True</td>\n",
       "      <td>True</td>\n",
       "    </tr>\n",
       "    <tr>\n",
       "      <th>8255</th>\n",
       "      <td>True</td>\n",
       "      <td>True</td>\n",
       "      <td>True</td>\n",
       "      <td>True</td>\n",
       "      <td>True</td>\n",
       "      <td>True</td>\n",
       "      <td>True</td>\n",
       "      <td>True</td>\n",
       "      <td>True</td>\n",
       "      <td>True</td>\n",
       "      <td>True</td>\n",
       "    </tr>\n",
       "  </tbody>\n",
       "</table>\n",
       "<p>1656 rows × 11 columns</p>\n",
       "</div>"
      ],
      "text/plain": [
       "      kl_grade  osteophytes   jsn   osfl   scfl   ostm   sctm   osfm   scfm  \\\n",
       "8         True         True  True  False  False  False  False  False  False   \n",
       "9         True         True  True  False  False  False  False  False  False   \n",
       "26        True         True  True  False  False  False  False  False  False   \n",
       "27        True         True  True  False  False  False  False  False  False   \n",
       "28        True         True  True   True   True   True   True   True   True   \n",
       "...        ...          ...   ...    ...    ...    ...    ...    ...    ...   \n",
       "8245      True         True  True   True   True   True   True   True   True   \n",
       "8246      True         True  True   True   True   True   True   True   True   \n",
       "8247      True         True  True   True   True   True   True   True   True   \n",
       "8254      True         True  True   True   True   True   True   True   True   \n",
       "8255      True         True  True   True   True   True   True   True   True   \n",
       "\n",
       "       ostl   sctl  \n",
       "8     False  False  \n",
       "9     False  False  \n",
       "26    False  False  \n",
       "27    False  False  \n",
       "28     True   True  \n",
       "...     ...    ...  \n",
       "8245   True   True  \n",
       "8246   True   True  \n",
       "8247   True   True  \n",
       "8254   True   True  \n",
       "8255   True   True  \n",
       "\n",
       "[1656 rows x 11 columns]"
      ]
     },
     "execution_count": 9,
     "metadata": {},
     "output_type": "execute_result"
    }
   ],
   "source": [
    "test_nan_df = ~df.loc[df['subset'] == 'test', TARGET_COLS].isna()\n",
    "test_nan_df"
   ]
  },
  {
   "cell_type": "code",
   "execution_count": 10,
   "id": "f09bb21e",
   "metadata": {
    "execution": {
     "iopub.execute_input": "2024-07-16T01:31:19.556593Z",
     "iopub.status.busy": "2024-07-16T01:31:19.555919Z",
     "iopub.status.idle": "2024-07-16T01:31:19.606974Z",
     "shell.execute_reply": "2024-07-16T01:31:19.606021Z"
    },
    "papermill": {
     "duration": 0.069494,
     "end_time": "2024-07-16T01:31:19.609247",
     "exception": false,
     "start_time": "2024-07-16T01:31:19.539753",
     "status": "completed"
    },
    "tags": []
   },
   "outputs": [],
   "source": [
    "X_train = df[df['subset'] == 'train']['actual_path'].tolist()\n",
    "y_train = onehot.transform(df.loc[df['subset'] == 'train', TARGET_COLS]).toarray().astype('uint8')\n",
    "\n",
    "X_val = df[df['subset'] == 'val'].dropna()['actual_path'].tolist()\n",
    "y_val = onehot.transform(df.loc[df['subset'] == 'val', TARGET_COLS].dropna()).toarray().astype('uint8')\n",
    "\n",
    "X_test = df[df['subset'] == 'test']['actual_path'].tolist()\n",
    "y_test = onehot.transform(df.loc[df['subset'] == 'test', TARGET_COLS].fillna(0)).toarray().astype('uint8')"
   ]
  },
  {
   "cell_type": "code",
   "execution_count": 11,
   "id": "a8091689",
   "metadata": {
    "execution": {
     "iopub.execute_input": "2024-07-16T01:31:19.641777Z",
     "iopub.status.busy": "2024-07-16T01:31:19.640973Z",
     "iopub.status.idle": "2024-07-16T01:31:19.646829Z",
     "shell.execute_reply": "2024-07-16T01:31:19.645983Z"
    },
    "papermill": {
     "duration": 0.024137,
     "end_time": "2024-07-16T01:31:19.648806",
     "exception": false,
     "start_time": "2024-07-16T01:31:19.624669",
     "status": "completed"
    },
    "tags": []
   },
   "outputs": [
    {
     "data": {
      "text/plain": [
       "500"
      ]
     },
     "execution_count": 11,
     "metadata": {},
     "output_type": "execute_result"
    }
   ],
   "source": [
    "len(X_val)"
   ]
  },
  {
   "cell_type": "code",
   "execution_count": 12,
   "id": "406336d7",
   "metadata": {
    "execution": {
     "iopub.execute_input": "2024-07-16T01:31:19.681308Z",
     "iopub.status.busy": "2024-07-16T01:31:19.680974Z",
     "iopub.status.idle": "2024-07-16T01:31:19.686688Z",
     "shell.execute_reply": "2024-07-16T01:31:19.685786Z"
    },
    "papermill": {
     "duration": 0.024628,
     "end_time": "2024-07-16T01:31:19.688788",
     "exception": false,
     "start_time": "2024-07-16T01:31:19.664160",
     "status": "completed"
    },
    "tags": []
   },
   "outputs": [
    {
     "data": {
      "text/plain": [
       "500"
      ]
     },
     "execution_count": 12,
     "metadata": {},
     "output_type": "execute_result"
    }
   ],
   "source": [
    "len(y_val)"
   ]
  },
  {
   "cell_type": "markdown",
   "id": "86244fdc",
   "metadata": {
    "papermill": {
     "duration": 0.015285,
     "end_time": "2024-07-16T01:31:19.719437",
     "exception": false,
     "start_time": "2024-07-16T01:31:19.704152",
     "status": "completed"
    },
    "tags": []
   },
   "source": [
    "# create dataset\n"
   ]
  },
  {
   "cell_type": "code",
   "execution_count": 13,
   "id": "3ab2864b",
   "metadata": {
    "execution": {
     "iopub.execute_input": "2024-07-16T01:31:19.752703Z",
     "iopub.status.busy": "2024-07-16T01:31:19.752335Z",
     "iopub.status.idle": "2024-07-16T01:31:19.815145Z",
     "shell.execute_reply": "2024-07-16T01:31:19.814126Z"
    },
    "papermill": {
     "duration": 0.081472,
     "end_time": "2024-07-16T01:31:19.817249",
     "exception": false,
     "start_time": "2024-07-16T01:31:19.735777",
     "status": "completed"
    },
    "tags": []
   },
   "outputs": [],
   "source": [
    "device = torch.device(\"cuda\" if torch.cuda.is_available() else \"cpu\")"
   ]
  },
  {
   "cell_type": "code",
   "execution_count": 14,
   "id": "38ad97a9",
   "metadata": {
    "execution": {
     "iopub.execute_input": "2024-07-16T01:31:19.850399Z",
     "iopub.status.busy": "2024-07-16T01:31:19.849551Z",
     "iopub.status.idle": "2024-07-16T01:31:19.856059Z",
     "shell.execute_reply": "2024-07-16T01:31:19.855037Z"
    },
    "papermill": {
     "duration": 0.025463,
     "end_time": "2024-07-16T01:31:19.858125",
     "exception": false,
     "start_time": "2024-07-16T01:31:19.832662",
     "status": "completed"
    },
    "tags": []
   },
   "outputs": [
    {
     "data": {
      "text/plain": [
       "44"
      ]
     },
     "execution_count": 14,
     "metadata": {},
     "output_type": "execute_result"
    }
   ],
   "source": [
    "HEIGHT = 224\n",
    "WEIGHT = 224\n",
    "BATCH_SIZE = 32\n",
    "\n",
    "NUM_CLASSES = y_train.shape[1]\n",
    "NUM_CLASSES "
   ]
  },
  {
   "cell_type": "code",
   "execution_count": 15,
   "id": "632fe216",
   "metadata": {
    "execution": {
     "iopub.execute_input": "2024-07-16T01:31:19.897493Z",
     "iopub.status.busy": "2024-07-16T01:31:19.897167Z",
     "iopub.status.idle": "2024-07-16T01:31:19.906094Z",
     "shell.execute_reply": "2024-07-16T01:31:19.904733Z"
    },
    "papermill": {
     "duration": 0.030417,
     "end_time": "2024-07-16T01:31:19.908239",
     "exception": false,
     "start_time": "2024-07-16T01:31:19.877822",
     "status": "completed"
    },
    "tags": []
   },
   "outputs": [],
   "source": [
    "class Custom_DataSet(Dataset):\n",
    "    def __init__(self, X, y, transform=None):   \n",
    "        self.X = X\n",
    "        self.y = y\n",
    "        self.transform = transform\n",
    "    \n",
    "    def __len__(self):\n",
    "        return len(self.X)\n",
    "    \n",
    "    def __getitem__(self, index):\n",
    "        # Read image\n",
    "        image = cv2.imread(self.X[index])\n",
    "        image = cv2.cvtColor(image, cv2.COLOR_BGR2RGB)\n",
    "        image = Image.fromarray(image)\n",
    "        \n",
    "        # Get label\n",
    "        label = self.y[index]\n",
    "        \n",
    "        if self.transform:\n",
    "            image = self.transform(image)\n",
    "\n",
    "        return image, label"
   ]
  },
  {
   "cell_type": "code",
   "execution_count": 16,
   "id": "5a1ff5bd",
   "metadata": {
    "execution": {
     "iopub.execute_input": "2024-07-16T01:31:19.947585Z",
     "iopub.status.busy": "2024-07-16T01:31:19.947080Z",
     "iopub.status.idle": "2024-07-16T01:31:19.979705Z",
     "shell.execute_reply": "2024-07-16T01:31:19.978743Z"
    },
    "papermill": {
     "duration": 0.053304,
     "end_time": "2024-07-16T01:31:19.981801",
     "exception": false,
     "start_time": "2024-07-16T01:31:19.928497",
     "status": "completed"
    },
    "tags": []
   },
   "outputs": [],
   "source": [
    "class RandomCutout(torch.nn.Module):\n",
    "    def __init__(self, height_factor, width_factor):\n",
    "        super().__init__()\n",
    "        self.height_factor = height_factor\n",
    "        self.width_factor = width_factor\n",
    "\n",
    "    def forward(self, img):\n",
    "        h, w = img.size(1), img.size(2)\n",
    "        cutout_height = int(random.uniform(*self.height_factor) * h)\n",
    "        cutout_width = int(random.uniform(*self.width_factor) * w)\n",
    "        x = random.randint(0, w - cutout_width)\n",
    "        y = random.randint(0, h - cutout_height)\n",
    "        img[:, y:y+cutout_height, x:x+cutout_width] = 0\n",
    "        return img\n",
    "\n",
    "class RandomSharpness(torch.nn.Module):\n",
    "    def __init__(self, factor):\n",
    "        super().__init__()\n",
    "        self.factor = factor\n",
    "\n",
    "    def forward(self, img):\n",
    "        factor = random.uniform(*self.factor)\n",
    "        return transforms.functional.adjust_sharpness(img, factor)\n",
    "\n",
    "class RandomShear(torch.nn.Module):\n",
    "    def __init__(self, x_factor, y_factor):\n",
    "        super().__init__()\n",
    "        self.x_factor = x_factor\n",
    "        self.y_factor = y_factor\n",
    "\n",
    "    def forward(self, img):\n",
    "        x_shear = random.uniform(-self.x_factor, self.x_factor)\n",
    "        y_shear = random.uniform(-self.y_factor, self.y_factor)\n",
    "        return transforms.functional.affine(img, angle=0, translate=(0, 0), scale=1, shear=(x_shear, y_shear))\n",
    "\n",
    "    \n",
    "\n",
    "class Grid(object):\n",
    "    def __init__(self, d1, d2, rotate = 1, ratio = 0.5, mode=0, prob=1.):\n",
    "        self.d1 = d1\n",
    "        self.d2 = d2\n",
    "        self.rotate = rotate\n",
    "        self.ratio = ratio\n",
    "        self.mode=mode\n",
    "        self.st_prob = self.prob = prob\n",
    "\n",
    "    def set_prob(self, epoch, max_epoch):\n",
    "        self.prob = self.st_prob * min(1, epoch / max_epoch)\n",
    "\n",
    "    def __call__(self, img):\n",
    "        if np.random.rand() > self.prob:\n",
    "            return img\n",
    "        h = img.size(1)\n",
    "        w = img.size(2)\n",
    "        \n",
    "        # 1.5 * h, 1.5 * w works fine with the squared images\n",
    "        # But with rectangular input, the mask might not be able to recover back to the input image shape\n",
    "        # A square mask with edge length equal to the diagnoal of the input image \n",
    "        # will be able to cover all the image spot after the rotation. This is also the minimum square.\n",
    "        hh = math.ceil((math.sqrt(h*h + w*w)))\n",
    "        \n",
    "        d = np.random.randint(self.d1, self.d2)\n",
    "        #d = self.d\n",
    "        \n",
    "        # maybe use ceil? but i guess no big difference\n",
    "        self.l = math.ceil(d*self.ratio)\n",
    "        \n",
    "        mask = np.ones((hh, hh), np.float32)\n",
    "        st_h = np.random.randint(d)\n",
    "        st_w = np.random.randint(d)\n",
    "        for i in range(-1, hh//d+1):\n",
    "                s = d*i + st_h\n",
    "                t = s+self.l\n",
    "                s = max(min(s, hh), 0)\n",
    "                t = max(min(t, hh), 0)\n",
    "                mask[s:t,:] *= 0\n",
    "        for i in range(-1, hh//d+1):\n",
    "                s = d*i + st_w\n",
    "                t = s+self.l\n",
    "                s = max(min(s, hh), 0)\n",
    "                t = max(min(t, hh), 0)\n",
    "                mask[:,s:t] *= 0\n",
    "        r = np.random.randint(self.rotate)\n",
    "        mask = Image.fromarray(np.uint8(mask))\n",
    "        mask = mask.rotate(r)\n",
    "        mask = np.asarray(mask)\n",
    "        mask = mask[(hh-h)//2:(hh-h)//2+h, (hh-w)//2:(hh-w)//2+w]\n",
    "\n",
    "        mask = torch.from_numpy(mask).float()\n",
    "        if self.mode == 1:\n",
    "            mask = 1-mask\n",
    "\n",
    "        mask = mask.expand_as(img)\n",
    "        img = img * mask \n",
    "\n",
    "        return img\n",
    "\n",
    "class GridMask(nn.Module):\n",
    "    def __init__(self, d1, d2, rotate = 1, ratio = 0.5, mode=0, prob=1.):\n",
    "        super(GridMask, self).__init__()\n",
    "        self.rotate = rotate\n",
    "        self.ratio = ratio\n",
    "        self.mode = mode\n",
    "        self.st_prob = prob\n",
    "        self.grid = Grid(d1, d2, rotate, ratio, mode, prob)\n",
    "\n",
    "    def set_prob(self, epoch, max_epoch):\n",
    "        self.grid.set_prob(epoch, max_epoch)\n",
    "\n",
    "    def forward(self, x):\n",
    "        if not self.training:\n",
    "            return x\n",
    "        c,h,w = x.size()\n",
    "        y = self.grid(x)\n",
    "        return y"
   ]
  },
  {
   "cell_type": "code",
   "execution_count": 17,
   "id": "2a0b3608",
   "metadata": {
    "execution": {
     "iopub.execute_input": "2024-07-16T01:31:20.016002Z",
     "iopub.status.busy": "2024-07-16T01:31:20.015127Z",
     "iopub.status.idle": "2024-07-16T01:31:20.022602Z",
     "shell.execute_reply": "2024-07-16T01:31:20.021693Z"
    },
    "papermill": {
     "duration": 0.026287,
     "end_time": "2024-07-16T01:31:20.024556",
     "exception": false,
     "start_time": "2024-07-16T01:31:19.998269",
     "status": "completed"
    },
    "tags": []
   },
   "outputs": [],
   "source": [
    "  \n",
    "class RandomAugmentationPipeline:\n",
    "    def __init__(self, augmentations, min_aug=1, max_aug=3):\n",
    "        self.augmentations = augmentations\n",
    "        self.min_aug = min_aug\n",
    "        self.max_aug = max_aug\n",
    "\n",
    "    def __call__(self, img):\n",
    "        num_aug = random.randint(self.min_aug, self.max_aug)\n",
    "        augmentations = random.sample(self.augmentations, num_aug)\n",
    "        for aug in augmentations:\n",
    "            img = aug(img)\n",
    "        return img\n",
    "\n"
   ]
  },
  {
   "cell_type": "code",
   "execution_count": 18,
   "id": "79cd8936",
   "metadata": {
    "execution": {
     "iopub.execute_input": "2024-07-16T01:31:20.059393Z",
     "iopub.status.busy": "2024-07-16T01:31:20.058475Z",
     "iopub.status.idle": "2024-07-16T01:31:20.075955Z",
     "shell.execute_reply": "2024-07-16T01:31:20.074941Z"
    },
    "papermill": {
     "duration": 0.037345,
     "end_time": "2024-07-16T01:31:20.077937",
     "exception": false,
     "start_time": "2024-07-16T01:31:20.040592",
     "status": "completed"
    },
    "tags": []
   },
   "outputs": [],
   "source": [
    "augmentations = [\n",
    "            transforms.RandomHorizontalFlip(),\n",
    "            transforms.RandomRotation(22.5),\n",
    "            RandomCutout(height_factor=(0.2, 0.4), width_factor=(0.1, 0.3)),\n",
    "            transforms.RandomAffine(degrees=0, translate=(0.15, 0.25), fill=0),\n",
    "            RandomSharpness(factor=(0.2, 0.6)),\n",
    "            RandomShear(x_factor=0.2, y_factor=0.2),\n",
    "            transforms.ColorJitter(brightness=(0.7, 1.0)),\n",
    "            v2.RandomPerspective(),\n",
    "]\n",
    "\n",
    "d1 = 50  \n",
    "d2 = 100  \n",
    "ratio = 0.75  \n",
    "rotate = 360  \n",
    "mode = 1  \n",
    "prob = 0.8  \n",
    "\n",
    "grid_mask = GridMask(d1, d2, rotate, ratio, mode, prob)\n",
    "\n",
    "\n",
    "random_aug_pipeline = RandomAugmentationPipeline(augmentations, min_aug=1, max_aug=3)\n",
    "\n",
    "train_transforms = transforms.Compose([\n",
    "    transforms.Resize((HEIGHT, WEIGHT)),\n",
    "    transforms.ToTensor(),\n",
    "    random_aug_pipeline,\n",
    "    grid_mask,\n",
    "    transforms.Normalize((0.6078, 0.6078, 0.6078), (0.1932, 0.1932, 0.1932))\n",
    "])\n",
    "\n",
    "\n",
    "val_transforms = transforms.Compose([\n",
    "    transforms.Resize((HEIGHT, WEIGHT)),\n",
    "    transforms.ToTensor(),\n",
    "    transforms.Normalize((0.6078, 0.6078, 0.6078), (0.1932, 0.1932, 0.1932)),\n",
    "])\n",
    "\n",
    "test_transforms = transforms.Compose([\n",
    "    transforms.Resize((HEIGHT, WEIGHT)),\n",
    "    transforms.ToTensor(),\n",
    "    transforms.Normalize((0.6078, 0.6078, 0.6078), (0.1932, 0.1932, 0.1932)),\n",
    "])\n",
    "\n",
    "train_dataset = Custom_DataSet(X=X_train, y=y_train, transform=train_transforms)\n",
    "val_dataset   = Custom_DataSet(X=X_val, y=y_val, transform=val_transforms)\n",
    "test_dataset  = Custom_DataSet(X=X_test, y=y_test, transform=test_transforms)\n",
    "\n",
    "train_loader  = torch.utils.data.DataLoader(train_dataset ,shuffle=True, batch_size = 32)\n",
    "val_loader    = torch.utils.data.DataLoader(val_dataset ,shuffle=False, batch_size = 32)\n",
    "test_loader   = torch.utils.data.DataLoader(test_dataset ,shuffle=False, batch_size =1)"
   ]
  },
  {
   "cell_type": "code",
   "execution_count": 19,
   "id": "d85e8d7e",
   "metadata": {
    "execution": {
     "iopub.execute_input": "2024-07-16T01:31:20.119612Z",
     "iopub.status.busy": "2024-07-16T01:31:20.118647Z",
     "iopub.status.idle": "2024-07-16T01:31:20.859508Z",
     "shell.execute_reply": "2024-07-16T01:31:20.858730Z"
    },
    "papermill": {
     "duration": 0.764094,
     "end_time": "2024-07-16T01:31:20.861821",
     "exception": false,
     "start_time": "2024-07-16T01:31:20.097727",
     "status": "completed"
    },
    "tags": []
   },
   "outputs": [
    {
     "name": "stderr",
     "output_type": "stream",
     "text": [
      "/tmp/ipykernel_23/1312260044.py:89: UserWarning: The given NumPy array is not writable, and PyTorch does not support non-writable tensors. This means writing to this tensor will result in undefined behavior. You may want to copy the array to protect its data or make it writable before converting it to a tensor. This type of warning will be suppressed for the rest of this program. (Triggered internally at /usr/local/src/pytorch/torch/csrc/utils/tensor_numpy.cpp:206.)\n",
      "  mask = torch.from_numpy(mask).float()\n"
     ]
    },
    {
     "name": "stdout",
     "output_type": "stream",
     "text": [
      "torch.Size([32, 3, 224, 224])\n",
      "torch.Size([32, 44])\n"
     ]
    }
   ],
   "source": [
    "for sample, label in train_loader:\n",
    "    print(sample.shape)\n",
    "    print(label.shape)\n",
    "    break"
   ]
  },
  {
   "cell_type": "code",
   "execution_count": 20,
   "id": "2d53cbac",
   "metadata": {
    "execution": {
     "iopub.execute_input": "2024-07-16T01:31:20.951549Z",
     "iopub.status.busy": "2024-07-16T01:31:20.950810Z",
     "iopub.status.idle": "2024-07-16T01:31:20.957321Z",
     "shell.execute_reply": "2024-07-16T01:31:20.956338Z"
    },
    "papermill": {
     "duration": 0.026393,
     "end_time": "2024-07-16T01:31:20.959304",
     "exception": false,
     "start_time": "2024-07-16T01:31:20.932911",
     "status": "completed"
    },
    "tags": []
   },
   "outputs": [],
   "source": [
    "def show_images(images, labels):\n",
    "    plt.figure(figsize=(10, 10))\n",
    "    for i in range(9):\n",
    "        plt.subplot(3, 3, i + 1)\n",
    "        plt.imshow(images[i].permute(1, 2, 0))\n",
    "        plt.title(np.argmax(labels[i][0:5]).item())\n",
    "        plt.axis('off')\n",
    "    plt.show()"
   ]
  },
  {
   "cell_type": "code",
   "execution_count": 21,
   "id": "052b2786",
   "metadata": {
    "execution": {
     "iopub.execute_input": "2024-07-16T01:31:20.994211Z",
     "iopub.status.busy": "2024-07-16T01:31:20.993872Z",
     "iopub.status.idle": "2024-07-16T01:31:22.167070Z",
     "shell.execute_reply": "2024-07-16T01:31:22.165850Z"
    },
    "papermill": {
     "duration": 1.193819,
     "end_time": "2024-07-16T01:31:22.170100",
     "exception": false,
     "start_time": "2024-07-16T01:31:20.976281",
     "status": "completed"
    },
    "tags": []
   },
   "outputs": [
    {
     "data": {
      "image/png": "[encoded data removed]",
      "text/plain": [
       "<Figure size 1000x1000 with 9 Axes>"
      ]
     },
     "metadata": {},
     "output_type": "display_data"
    }
   ],
   "source": [
    "# Get a batch of training data\n",
    "dataiter = iter(train_loader)\n",
    "images, labels = next(dataiter)\n",
    "\n",
    "# Show images\n",
    "show_images(images, labels)"
   ]
  },
  {
   "cell_type": "markdown",
   "id": "8883c093",
   "metadata": {
    "papermill": {
     "duration": 0.02324,
     "end_time": "2024-07-16T01:31:22.216288",
     "exception": false,
     "start_time": "2024-07-16T01:31:22.193048",
     "status": "completed"
    },
    "tags": []
   },
   "source": [
    "# Create Model "
   ]
  },
  {
   "cell_type": "code",
   "execution_count": 22,
   "id": "5aedbb44",
   "metadata": {
    "execution": {
     "iopub.execute_input": "2024-07-16T01:31:22.255002Z",
     "iopub.status.busy": "2024-07-16T01:31:22.254126Z",
     "iopub.status.idle": "2024-07-16T01:31:29.035636Z",
     "shell.execute_reply": "2024-07-16T01:31:29.034666Z"
    },
    "papermill": {
     "duration": 6.803512,
     "end_time": "2024-07-16T01:31:29.038280",
     "exception": false,
     "start_time": "2024-07-16T01:31:22.234768",
     "status": "completed"
    },
    "tags": []
   },
   "outputs": [
    {
     "name": "stderr",
     "output_type": "stream",
     "text": [
      "Downloading: \"https://download.pytorch.org/models/convnext_base-6075fbad.pth\" to /root/.cache/torch/hub/checkpoints/convnext_base-6075fbad.pth\n",
      "100%|██████████| 338M/338M [00:04<00:00, 79.6MB/s]\n"
     ]
    },
    {
     "data": {
      "text/plain": [
       "ConvNeXt(\n",
       "  (features): Sequential(\n",
       "    (0): Conv2dNormActivation(\n",
       "      (0): Conv2d(3, 128, kernel_size=(4, 4), stride=(4, 4))\n",
       "      (1): LayerNorm2d((128,), eps=1e-06, elementwise_affine=True)\n",
       "    )\n",
       "    (1): Sequential(\n",
       "      (0): CNBlock(\n",
       "        (block): Sequential(\n",
       "          (0): Conv2d(128, 128, kernel_size=(7, 7), stride=(1, 1), padding=(3, 3), groups=128)\n",
       "          (1): Permute()\n",
       "          (2): LayerNorm((128,), eps=1e-06, elementwise_affine=True)\n",
       "          (3): Linear(in_features=128, out_features=512, bias=True)\n",
       "          (4): GELU(approximate='none')\n",
       "          (5): Linear(in_features=512, out_features=128, bias=True)\n",
       "          (6): Permute()\n",
       "        )\n",
       "        (stochastic_depth): StochasticDepth(p=0.0, mode=row)\n",
       "      )\n",
       "      (1): CNBlock(\n",
       "        (block): Sequential(\n",
       "          (0): Conv2d(128, 128, kernel_size=(7, 7), stride=(1, 1), padding=(3, 3), groups=128)\n",
       "          (1): Permute()\n",
       "          (2): LayerNorm((128,), eps=1e-06, elementwise_affine=True)\n",
       "          (3): Linear(in_features=128, out_features=512, bias=True)\n",
       "          (4): GELU(approximate='none')\n",
       "          (5): Linear(in_features=512, out_features=128, bias=True)\n",
       "          (6): Permute()\n",
       "        )\n",
       "        (stochastic_depth): StochasticDepth(p=0.014285714285714285, mode=row)\n",
       "      )\n",
       "      (2): CNBlock(\n",
       "        (block): Sequential(\n",
       "          (0): Conv2d(128, 128, kernel_size=(7, 7), stride=(1, 1), padding=(3, 3), groups=128)\n",
       "          (1): Permute()\n",
       "          (2): LayerNorm((128,), eps=1e-06, elementwise_affine=True)\n",
       "          (3): Linear(in_features=128, out_features=512, bias=True)\n",
       "          (4): GELU(approximate='none')\n",
       "          (5): Linear(in_features=512, out_features=128, bias=True)\n",
       "          (6): Permute()\n",
       "        )\n",
       "        (stochastic_depth): StochasticDepth(p=0.02857142857142857, mode=row)\n",
       "      )\n",
       "    )\n",
       "    (2): Sequential(\n",
       "      (0): LayerNorm2d((128,), eps=1e-06, elementwise_affine=True)\n",
       "      (1): Conv2d(128, 256, kernel_size=(2, 2), stride=(2, 2))\n",
       "    )\n",
       "    (3): Sequential(\n",
       "      (0): CNBlock(\n",
       "        (block): Sequential(\n",
       "          (0): Conv2d(256, 256, kernel_size=(7, 7), stride=(1, 1), padding=(3, 3), groups=256)\n",
       "          (1): Permute()\n",
       "          (2): LayerNorm((256,), eps=1e-06, elementwise_affine=True)\n",
       "          (3): Linear(in_features=256, out_features=1024, bias=True)\n",
       "          (4): GELU(approximate='none')\n",
       "          (5): Linear(in_features=1024, out_features=256, bias=True)\n",
       "          (6): Permute()\n",
       "        )\n",
       "        (stochastic_depth): StochasticDepth(p=0.04285714285714286, mode=row)\n",
       "      )\n",
       "      (1): CNBlock(\n",
       "        (block): Sequential(\n",
       "          (0): Conv2d(256, 256, kernel_size=(7, 7), stride=(1, 1), padding=(3, 3), groups=256)\n",
       "          (1): Permute()\n",
       "          (2): LayerNorm((256,), eps=1e-06, elementwise_affine=True)\n",
       "          (3): Linear(in_features=256, out_features=1024, bias=True)\n",
       "          (4): GELU(approximate='none')\n",
       "          (5): Linear(in_features=1024, out_features=256, bias=True)\n",
       "          (6): Permute()\n",
       "        )\n",
       "        (stochastic_depth): StochasticDepth(p=0.05714285714285714, mode=row)\n",
       "      )\n",
       "      (2): CNBlock(\n",
       "        (block): Sequential(\n",
       "          (0): Conv2d(256, 256, kernel_size=(7, 7), stride=(1, 1), padding=(3, 3), groups=256)\n",
       "          (1): Permute()\n",
       "          (2): LayerNorm((256,), eps=1e-06, elementwise_affine=True)\n",
       "          (3): Linear(in_features=256, out_features=1024, bias=True)\n",
       "          (4): GELU(approximate='none')\n",
       "          (5): Linear(in_features=1024, out_features=256, bias=True)\n",
       "          (6): Permute()\n",
       "        )\n",
       "        (stochastic_depth): StochasticDepth(p=0.07142857142857142, mode=row)\n",
       "      )\n",
       "    )\n",
       "    (4): Sequential(\n",
       "      (0): LayerNorm2d((256,), eps=1e-06, elementwise_affine=True)\n",
       "      (1): Conv2d(256, 512, kernel_size=(2, 2), stride=(2, 2))\n",
       "    )\n",
       "    (5): Sequential(\n",
       "      (0): CNBlock(\n",
       "        (block): Sequential(\n",
       "          (0): Conv2d(512, 512, kernel_size=(7, 7), stride=(1, 1), padding=(3, 3), groups=512)\n",
       "          (1): Permute()\n",
       "          (2): LayerNorm((512,), eps=1e-06, elementwise_affine=True)\n",
       "          (3): Linear(in_features=512, out_features=2048, bias=True)\n",
       "          (4): GELU(approximate='none')\n",
       "          (5): Linear(in_features=2048, out_features=512, bias=True)\n",
       "          (6): Permute()\n",
       "        )\n",
       "        (stochastic_depth): StochasticDepth(p=0.08571428571428572, mode=row)\n",
       "      )\n",
       "      (1): CNBlock(\n",
       "        (block): Sequential(\n",
       "          (0): Conv2d(512, 512, kernel_size=(7, 7), stride=(1, 1), padding=(3, 3), groups=512)\n",
       "          (1): Permute()\n",
       "          (2): LayerNorm((512,), eps=1e-06, elementwise_affine=True)\n",
       "          (3): Linear(in_features=512, out_features=2048, bias=True)\n",
       "          (4): GELU(approximate='none')\n",
       "          (5): Linear(in_features=2048, out_features=512, bias=True)\n",
       "          (6): Permute()\n",
       "        )\n",
       "        (stochastic_depth): StochasticDepth(p=0.1, mode=row)\n",
       "      )\n",
       "      (2): CNBlock(\n",
       "        (block): Sequential(\n",
       "          (0): Conv2d(512, 512, kernel_size=(7, 7), stride=(1, 1), padding=(3, 3), groups=512)\n",
       "          (1): Permute()\n",
       "          (2): LayerNorm((512,), eps=1e-06, elementwise_affine=True)\n",
       "          (3): Linear(in_features=512, out_features=2048, bias=True)\n",
       "          (4): GELU(approximate='none')\n",
       "          (5): Linear(in_features=2048, out_features=512, bias=True)\n",
       "          (6): Permute()\n",
       "        )\n",
       "        (stochastic_depth): StochasticDepth(p=0.11428571428571428, mode=row)\n",
       "      )\n",
       "      (3): CNBlock(\n",
       "        (block): Sequential(\n",
       "          (0): Conv2d(512, 512, kernel_size=(7, 7), stride=(1, 1), padding=(3, 3), groups=512)\n",
       "          (1): Permute()\n",
       "          (2): LayerNorm((512,), eps=1e-06, elementwise_affine=True)\n",
       "          (3): Linear(in_features=512, out_features=2048, bias=True)\n",
       "          (4): GELU(approximate='none')\n",
       "          (5): Linear(in_features=2048, out_features=512, bias=True)\n",
       "          (6): Permute()\n",
       "        )\n",
       "        (stochastic_depth): StochasticDepth(p=0.12857142857142856, mode=row)\n",
       "      )\n",
       "      (4): CNBlock(\n",
       "        (block): Sequential(\n",
       "          (0): Conv2d(512, 512, kernel_size=(7, 7), stride=(1, 1), padding=(3, 3), groups=512)\n",
       "          (1): Permute()\n",
       "          (2): LayerNorm((512,), eps=1e-06, elementwise_affine=True)\n",
       "          (3): Linear(in_features=512, out_features=2048, bias=True)\n",
       "          (4): GELU(approximate='none')\n",
       "          (5): Linear(in_features=2048, out_features=512, bias=True)\n",
       "          (6): Permute()\n",
       "        )\n",
       "        (stochastic_depth): StochasticDepth(p=0.14285714285714285, mode=row)\n",
       "      )\n",
       "      (5): CNBlock(\n",
       "        (block): Sequential(\n",
       "          (0): Conv2d(512, 512, kernel_size=(7, 7), stride=(1, 1), padding=(3, 3), groups=512)\n",
       "          (1): Permute()\n",
       "          (2): LayerNorm((512,), eps=1e-06, elementwise_affine=True)\n",
       "          (3): Linear(in_features=512, out_features=2048, bias=True)\n",
       "          (4): GELU(approximate='none')\n",
       "          (5): Linear(in_features=2048, out_features=512, bias=True)\n",
       "          (6): Permute()\n",
       "        )\n",
       "        (stochastic_depth): StochasticDepth(p=0.15714285714285714, mode=row)\n",
       "      )\n",
       "      (6): CNBlock(\n",
       "        (block): Sequential(\n",
       "          (0): Conv2d(512, 512, kernel_size=(7, 7), stride=(1, 1), padding=(3, 3), groups=512)\n",
       "          (1): Permute()\n",
       "          (2): LayerNorm((512,), eps=1e-06, elementwise_affine=True)\n",
       "          (3): Linear(in_features=512, out_features=2048, bias=True)\n",
       "          (4): GELU(approximate='none')\n",
       "          (5): Linear(in_features=2048, out_features=512, bias=True)\n",
       "          (6): Permute()\n",
       "        )\n",
       "        (stochastic_depth): StochasticDepth(p=0.17142857142857143, mode=row)\n",
       "      )\n",
       "      (7): CNBlock(\n",
       "        (block): Sequential(\n",
       "          (0): Conv2d(512, 512, kernel_size=(7, 7), stride=(1, 1), padding=(3, 3), groups=512)\n",
       "          (1): Permute()\n",
       "          (2): LayerNorm((512,), eps=1e-06, elementwise_affine=True)\n",
       "          (3): Linear(in_features=512, out_features=2048, bias=True)\n",
       "          (4): GELU(approximate='none')\n",
       "          (5): Linear(in_features=2048, out_features=512, bias=True)\n",
       "          (6): Permute()\n",
       "        )\n",
       "        (stochastic_depth): StochasticDepth(p=0.18571428571428572, mode=row)\n",
       "      )\n",
       "      (8): CNBlock(\n",
       "        (block): Sequential(\n",
       "          (0): Conv2d(512, 512, kernel_size=(7, 7), stride=(1, 1), padding=(3, 3), groups=512)\n",
       "          (1): Permute()\n",
       "          (2): LayerNorm((512,), eps=1e-06, elementwise_affine=True)\n",
       "          (3): Linear(in_features=512, out_features=2048, bias=True)\n",
       "          (4): GELU(approximate='none')\n",
       "          (5): Linear(in_features=2048, out_features=512, bias=True)\n",
       "          (6): Permute()\n",
       "        )\n",
       "        (stochastic_depth): StochasticDepth(p=0.2, mode=row)\n",
       "      )\n",
       "      (9): CNBlock(\n",
       "        (block): Sequential(\n",
       "          (0): Conv2d(512, 512, kernel_size=(7, 7), stride=(1, 1), padding=(3, 3), groups=512)\n",
       "          (1): Permute()\n",
       "          (2): LayerNorm((512,), eps=1e-06, elementwise_affine=True)\n",
       "          (3): Linear(in_features=512, out_features=2048, bias=True)\n",
       "          (4): GELU(approximate='none')\n",
       "          (5): Linear(in_features=2048, out_features=512, bias=True)\n",
       "          (6): Permute()\n",
       "        )\n",
       "        (stochastic_depth): StochasticDepth(p=0.21428571428571427, mode=row)\n",
       "      )\n",
       "      (10): CNBlock(\n",
       "        (block): Sequential(\n",
       "          (0): Conv2d(512, 512, kernel_size=(7, 7), stride=(1, 1), padding=(3, 3), groups=512)\n",
       "          (1): Permute()\n",
       "          (2): LayerNorm((512,), eps=1e-06, elementwise_affine=True)\n",
       "          (3): Linear(in_features=512, out_features=2048, bias=True)\n",
       "          (4): GELU(approximate='none')\n",
       "          (5): Linear(in_features=2048, out_features=512, bias=True)\n",
       "          (6): Permute()\n",
       "        )\n",
       "        (stochastic_depth): StochasticDepth(p=0.22857142857142856, mode=row)\n",
       "      )\n",
       "      (11): CNBlock(\n",
       "        (block): Sequential(\n",
       "          (0): Conv2d(512, 512, kernel_size=(7, 7), stride=(1, 1), padding=(3, 3), groups=512)\n",
       "          (1): Permute()\n",
       "          (2): LayerNorm((512,), eps=1e-06, elementwise_affine=True)\n",
       "          (3): Linear(in_features=512, out_features=2048, bias=True)\n",
       "          (4): GELU(approximate='none')\n",
       "          (5): Linear(in_features=2048, out_features=512, bias=True)\n",
       "          (6): Permute()\n",
       "        )\n",
       "        (stochastic_depth): StochasticDepth(p=0.24285714285714285, mode=row)\n",
       "      )\n",
       "      (12): CNBlock(\n",
       "        (block): Sequential(\n",
       "          (0): Conv2d(512, 512, kernel_size=(7, 7), stride=(1, 1), padding=(3, 3), groups=512)\n",
       "          (1): Permute()\n",
       "          (2): LayerNorm((512,), eps=1e-06, elementwise_affine=True)\n",
       "          (3): Linear(in_features=512, out_features=2048, bias=True)\n",
       "          (4): GELU(approximate='none')\n",
       "          (5): Linear(in_features=2048, out_features=512, bias=True)\n",
       "          (6): Permute()\n",
       "        )\n",
       "        (stochastic_depth): StochasticDepth(p=0.2571428571428571, mode=row)\n",
       "      )\n",
       "      (13): CNBlock(\n",
       "        (block): Sequential(\n",
       "          (0): Conv2d(512, 512, kernel_size=(7, 7), stride=(1, 1), padding=(3, 3), groups=512)\n",
       "          (1): Permute()\n",
       "          (2): LayerNorm((512,), eps=1e-06, elementwise_affine=True)\n",
       "          (3): Linear(in_features=512, out_features=2048, bias=True)\n",
       "          (4): GELU(approximate='none')\n",
       "          (5): Linear(in_features=2048, out_features=512, bias=True)\n",
       "          (6): Permute()\n",
       "        )\n",
       "        (stochastic_depth): StochasticDepth(p=0.2714285714285714, mode=row)\n",
       "      )\n",
       "      (14): CNBlock(\n",
       "        (block): Sequential(\n",
       "          (0): Conv2d(512, 512, kernel_size=(7, 7), stride=(1, 1), padding=(3, 3), groups=512)\n",
       "          (1): Permute()\n",
       "          (2): LayerNorm((512,), eps=1e-06, elementwise_affine=True)\n",
       "          (3): Linear(in_features=512, out_features=2048, bias=True)\n",
       "          (4): GELU(approximate='none')\n",
       "          (5): Linear(in_features=2048, out_features=512, bias=True)\n",
       "          (6): Permute()\n",
       "        )\n",
       "        (stochastic_depth): StochasticDepth(p=0.2857142857142857, mode=row)\n",
       "      )\n",
       "      (15): CNBlock(\n",
       "        (block): Sequential(\n",
       "          (0): Conv2d(512, 512, kernel_size=(7, 7), stride=(1, 1), padding=(3, 3), groups=512)\n",
       "          (1): Permute()\n",
       "          (2): LayerNorm((512,), eps=1e-06, elementwise_affine=True)\n",
       "          (3): Linear(in_features=512, out_features=2048, bias=True)\n",
       "          (4): GELU(approximate='none')\n",
       "          (5): Linear(in_features=2048, out_features=512, bias=True)\n",
       "          (6): Permute()\n",
       "        )\n",
       "        (stochastic_depth): StochasticDepth(p=0.3, mode=row)\n",
       "      )\n",
       "      (16): CNBlock(\n",
       "        (block): Sequential(\n",
       "          (0): Conv2d(512, 512, kernel_size=(7, 7), stride=(1, 1), padding=(3, 3), groups=512)\n",
       "          (1): Permute()\n",
       "          (2): LayerNorm((512,), eps=1e-06, elementwise_affine=True)\n",
       "          (3): Linear(in_features=512, out_features=2048, bias=True)\n",
       "          (4): GELU(approximate='none')\n",
       "          (5): Linear(in_features=2048, out_features=512, bias=True)\n",
       "          (6): Permute()\n",
       "        )\n",
       "        (stochastic_depth): StochasticDepth(p=0.3142857142857143, mode=row)\n",
       "      )\n",
       "      (17): CNBlock(\n",
       "        (block): Sequential(\n",
       "          (0): Conv2d(512, 512, kernel_size=(7, 7), stride=(1, 1), padding=(3, 3), groups=512)\n",
       "          (1): Permute()\n",
       "          (2): LayerNorm((512,), eps=1e-06, elementwise_affine=True)\n",
       "          (3): Linear(in_features=512, out_features=2048, bias=True)\n",
       "          (4): GELU(approximate='none')\n",
       "          (5): Linear(in_features=2048, out_features=512, bias=True)\n",
       "          (6): Permute()\n",
       "        )\n",
       "        (stochastic_depth): StochasticDepth(p=0.32857142857142857, mode=row)\n",
       "      )\n",
       "      (18): CNBlock(\n",
       "        (block): Sequential(\n",
       "          (0): Conv2d(512, 512, kernel_size=(7, 7), stride=(1, 1), padding=(3, 3), groups=512)\n",
       "          (1): Permute()\n",
       "          (2): LayerNorm((512,), eps=1e-06, elementwise_affine=True)\n",
       "          (3): Linear(in_features=512, out_features=2048, bias=True)\n",
       "          (4): GELU(approximate='none')\n",
       "          (5): Linear(in_features=2048, out_features=512, bias=True)\n",
       "          (6): Permute()\n",
       "        )\n",
       "        (stochastic_depth): StochasticDepth(p=0.34285714285714286, mode=row)\n",
       "      )\n",
       "      (19): CNBlock(\n",
       "        (block): Sequential(\n",
       "          (0): Conv2d(512, 512, kernel_size=(7, 7), stride=(1, 1), padding=(3, 3), groups=512)\n",
       "          (1): Permute()\n",
       "          (2): LayerNorm((512,), eps=1e-06, elementwise_affine=True)\n",
       "          (3): Linear(in_features=512, out_features=2048, bias=True)\n",
       "          (4): GELU(approximate='none')\n",
       "          (5): Linear(in_features=2048, out_features=512, bias=True)\n",
       "          (6): Permute()\n",
       "        )\n",
       "        (stochastic_depth): StochasticDepth(p=0.35714285714285715, mode=row)\n",
       "      )\n",
       "      (20): CNBlock(\n",
       "        (block): Sequential(\n",
       "          (0): Conv2d(512, 512, kernel_size=(7, 7), stride=(1, 1), padding=(3, 3), groups=512)\n",
       "          (1): Permute()\n",
       "          (2): LayerNorm((512,), eps=1e-06, elementwise_affine=True)\n",
       "          (3): Linear(in_features=512, out_features=2048, bias=True)\n",
       "          (4): GELU(approximate='none')\n",
       "          (5): Linear(in_features=2048, out_features=512, bias=True)\n",
       "          (6): Permute()\n",
       "        )\n",
       "        (stochastic_depth): StochasticDepth(p=0.37142857142857144, mode=row)\n",
       "      )\n",
       "      (21): CNBlock(\n",
       "        (block): Sequential(\n",
       "          (0): Conv2d(512, 512, kernel_size=(7, 7), stride=(1, 1), padding=(3, 3), groups=512)\n",
       "          (1): Permute()\n",
       "          (2): LayerNorm((512,), eps=1e-06, elementwise_affine=True)\n",
       "          (3): Linear(in_features=512, out_features=2048, bias=True)\n",
       "          (4): GELU(approximate='none')\n",
       "          (5): Linear(in_features=2048, out_features=512, bias=True)\n",
       "          (6): Permute()\n",
       "        )\n",
       "        (stochastic_depth): StochasticDepth(p=0.38571428571428573, mode=row)\n",
       "      )\n",
       "      (22): CNBlock(\n",
       "        (block): Sequential(\n",
       "          (0): Conv2d(512, 512, kernel_size=(7, 7), stride=(1, 1), padding=(3, 3), groups=512)\n",
       "          (1): Permute()\n",
       "          (2): LayerNorm((512,), eps=1e-06, elementwise_affine=True)\n",
       "          (3): Linear(in_features=512, out_features=2048, bias=True)\n",
       "          (4): GELU(approximate='none')\n",
       "          (5): Linear(in_features=2048, out_features=512, bias=True)\n",
       "          (6): Permute()\n",
       "        )\n",
       "        (stochastic_depth): StochasticDepth(p=0.4, mode=row)\n",
       "      )\n",
       "      (23): CNBlock(\n",
       "        (block): Sequential(\n",
       "          (0): Conv2d(512, 512, kernel_size=(7, 7), stride=(1, 1), padding=(3, 3), groups=512)\n",
       "          (1): Permute()\n",
       "          (2): LayerNorm((512,), eps=1e-06, elementwise_affine=True)\n",
       "          (3): Linear(in_features=512, out_features=2048, bias=True)\n",
       "          (4): GELU(approximate='none')\n",
       "          (5): Linear(in_features=2048, out_features=512, bias=True)\n",
       "          (6): Permute()\n",
       "        )\n",
       "        (stochastic_depth): StochasticDepth(p=0.4142857142857143, mode=row)\n",
       "      )\n",
       "      (24): CNBlock(\n",
       "        (block): Sequential(\n",
       "          (0): Conv2d(512, 512, kernel_size=(7, 7), stride=(1, 1), padding=(3, 3), groups=512)\n",
       "          (1): Permute()\n",
       "          (2): LayerNorm((512,), eps=1e-06, elementwise_affine=True)\n",
       "          (3): Linear(in_features=512, out_features=2048, bias=True)\n",
       "          (4): GELU(approximate='none')\n",
       "          (5): Linear(in_features=2048, out_features=512, bias=True)\n",
       "          (6): Permute()\n",
       "        )\n",
       "        (stochastic_depth): StochasticDepth(p=0.42857142857142855, mode=row)\n",
       "      )\n",
       "      (25): CNBlock(\n",
       "        (block): Sequential(\n",
       "          (0): Conv2d(512, 512, kernel_size=(7, 7), stride=(1, 1), padding=(3, 3), groups=512)\n",
       "          (1): Permute()\n",
       "          (2): LayerNorm((512,), eps=1e-06, elementwise_affine=True)\n",
       "          (3): Linear(in_features=512, out_features=2048, bias=True)\n",
       "          (4): GELU(approximate='none')\n",
       "          (5): Linear(in_features=2048, out_features=512, bias=True)\n",
       "          (6): Permute()\n",
       "        )\n",
       "        (stochastic_depth): StochasticDepth(p=0.44285714285714284, mode=row)\n",
       "      )\n",
       "      (26): CNBlock(\n",
       "        (block): Sequential(\n",
       "          (0): Conv2d(512, 512, kernel_size=(7, 7), stride=(1, 1), padding=(3, 3), groups=512)\n",
       "          (1): Permute()\n",
       "          (2): LayerNorm((512,), eps=1e-06, elementwise_affine=True)\n",
       "          (3): Linear(in_features=512, out_features=2048, bias=True)\n",
       "          (4): GELU(approximate='none')\n",
       "          (5): Linear(in_features=2048, out_features=512, bias=True)\n",
       "          (6): Permute()\n",
       "        )\n",
       "        (stochastic_depth): StochasticDepth(p=0.45714285714285713, mode=row)\n",
       "      )\n",
       "    )\n",
       "    (6): Sequential(\n",
       "      (0): LayerNorm2d((512,), eps=1e-06, elementwise_affine=True)\n",
       "      (1): Conv2d(512, 1024, kernel_size=(2, 2), stride=(2, 2))\n",
       "    )\n",
       "    (7): Sequential(\n",
       "      (0): CNBlock(\n",
       "        (block): Sequential(\n",
       "          (0): Conv2d(1024, 1024, kernel_size=(7, 7), stride=(1, 1), padding=(3, 3), groups=1024)\n",
       "          (1): Permute()\n",
       "          (2): LayerNorm((1024,), eps=1e-06, elementwise_affine=True)\n",
       "          (3): Linear(in_features=1024, out_features=4096, bias=True)\n",
       "          (4): GELU(approximate='none')\n",
       "          (5): Linear(in_features=4096, out_features=1024, bias=True)\n",
       "          (6): Permute()\n",
       "        )\n",
       "        (stochastic_depth): StochasticDepth(p=0.4714285714285714, mode=row)\n",
       "      )\n",
       "      (1): CNBlock(\n",
       "        (block): Sequential(\n",
       "          (0): Conv2d(1024, 1024, kernel_size=(7, 7), stride=(1, 1), padding=(3, 3), groups=1024)\n",
       "          (1): Permute()\n",
       "          (2): LayerNorm((1024,), eps=1e-06, elementwise_affine=True)\n",
       "          (3): Linear(in_features=1024, out_features=4096, bias=True)\n",
       "          (4): GELU(approximate='none')\n",
       "          (5): Linear(in_features=4096, out_features=1024, bias=True)\n",
       "          (6): Permute()\n",
       "        )\n",
       "        (stochastic_depth): StochasticDepth(p=0.4857142857142857, mode=row)\n",
       "      )\n",
       "      (2): CNBlock(\n",
       "        (block): Sequential(\n",
       "          (0): Conv2d(1024, 1024, kernel_size=(7, 7), stride=(1, 1), padding=(3, 3), groups=1024)\n",
       "          (1): Permute()\n",
       "          (2): LayerNorm((1024,), eps=1e-06, elementwise_affine=True)\n",
       "          (3): Linear(in_features=1024, out_features=4096, bias=True)\n",
       "          (4): GELU(approximate='none')\n",
       "          (5): Linear(in_features=4096, out_features=1024, bias=True)\n",
       "          (6): Permute()\n",
       "        )\n",
       "        (stochastic_depth): StochasticDepth(p=0.5, mode=row)\n",
       "      )\n",
       "    )\n",
       "  )\n",
       "  (avgpool): AdaptiveAvgPool2d(output_size=1)\n",
       "  (classifier): Sequential(\n",
       "    (0): LayerNorm2d((1024,), eps=1e-06, elementwise_affine=True)\n",
       "    (1): Flatten(start_dim=1, end_dim=-1)\n",
       "    (2): Sequential(\n",
       "      (0): Linear(in_features=1024, out_features=44, bias=True)\n",
       "      (1): Sigmoid()\n",
       "    )\n",
       "  )\n",
       ")"
      ]
     },
     "execution_count": 22,
     "metadata": {},
     "output_type": "execute_result"
    }
   ],
   "source": [
    "model = models.convnext_base(weights='IMAGENET1K_V1')\n",
    "num_features = model.classifier[2].in_features\n",
    "model.classifier[2] = nn.Sequential(\n",
    "            nn.Linear(num_features, NUM_CLASSES),\n",
    "            nn.Sigmoid()\n",
    "        )\n",
    "model.to(device)"
   ]
  },
  {
   "cell_type": "code",
   "execution_count": 23,
   "id": "07622574",
   "metadata": {
    "execution": {
     "iopub.execute_input": "2024-07-16T01:31:29.084387Z",
     "iopub.status.busy": "2024-07-16T01:31:29.084024Z",
     "iopub.status.idle": "2024-07-16T01:31:29.092285Z",
     "shell.execute_reply": "2024-07-16T01:31:29.091342Z"
    },
    "papermill": {
     "duration": 0.033852,
     "end_time": "2024-07-16T01:31:29.094378",
     "exception": false,
     "start_time": "2024-07-16T01:31:29.060526",
     "status": "completed"
    },
    "tags": []
   },
   "outputs": [],
   "source": [
    "criterion = nn.BCELoss()  # Sử dụng BCELoss\n",
    "optimizer = optim.Adam(model.parameters(), lr=1e-4)\n",
    "scheduler = torch.optim.lr_scheduler.ReduceLROnPlateau(optimizer, \n",
    "                                                       mode='max',\n",
    "                                                       factor=0.5,\n",
    "                                                       patience=5,\n",
    "                                                       threshold=1e-3,\n",
    "                                                       threshold_mode='abs',\n",
    "                                                       verbose=True\n",
    "                                                       )\n",
    "val_acc_max = 0.0"
   ]
  },
  {
   "cell_type": "code",
   "execution_count": 24,
   "id": "54a78338",
   "metadata": {
    "execution": {
     "iopub.execute_input": "2024-07-16T01:31:29.140575Z",
     "iopub.status.busy": "2024-07-16T01:31:29.140216Z",
     "iopub.status.idle": "2024-07-16T04:13:07.446427Z",
     "shell.execute_reply": "2024-07-16T04:13:07.445482Z"
    },
    "papermill": {
     "duration": 9698.332545,
     "end_time": "2024-07-16T04:13:07.449154",
     "exception": false,
     "start_time": "2024-07-16T01:31:29.116609",
     "status": "completed"
    },
    "tags": []
   },
   "outputs": [
    {
     "name": "stderr",
     "output_type": "stream",
     "text": [
      "100%|██████████| 181/181 [05:48<00:00,  1.92s/it]\n",
      "100%|██████████| 16/16 [00:06<00:00,  2.32it/s]\n"
     ]
    },
    {
     "name": "stdout",
     "output_type": "stream",
     "text": [
      "Validation acc increased (0.000000 --> 0.857955).   Saving model ...\n",
      "Epoch 1\n",
      "Loss: 0.3230, Train_acc: 86.73\n",
      "Val_loss: 0.3217, Val_acc: 85.80\n"
     ]
    },
    {
     "name": "stderr",
     "output_type": "stream",
     "text": [
      "100%|██████████| 181/181 [05:19<00:00,  1.77s/it]\n",
      "100%|██████████| 16/16 [00:04<00:00,  3.36it/s]\n"
     ]
    },
    {
     "name": "stdout",
     "output_type": "stream",
     "text": [
      "Validation acc increased (0.857955 --> 0.872136).   Saving model ...\n",
      "Epoch 2\n",
      "Loss: 0.2499, Train_acc: 89.26\n",
      "Val_loss: 0.2940, Val_acc: 87.21\n"
     ]
    },
    {
     "name": "stderr",
     "output_type": "stream",
     "text": [
      "100%|██████████| 181/181 [05:19<00:00,  1.76s/it]\n",
      "100%|██████████| 16/16 [00:04<00:00,  3.40it/s]\n"
     ]
    },
    {
     "name": "stdout",
     "output_type": "stream",
     "text": [
      "Validation acc increased (0.872136 --> 0.885591).   Saving model ...\n",
      "Epoch 3\n",
      "Loss: 0.2259, Train_acc: 90.17\n",
      "Val_loss: 0.2632, Val_acc: 88.56\n"
     ]
    },
    {
     "name": "stderr",
     "output_type": "stream",
     "text": [
      "100%|██████████| 181/181 [05:19<00:00,  1.76s/it]\n",
      "100%|██████████| 16/16 [00:04<00:00,  3.35it/s]\n"
     ]
    },
    {
     "name": "stdout",
     "output_type": "stream",
     "text": [
      "Validation acc increased (0.885591 --> 0.888545).   Saving model ...\n",
      "Epoch 4\n",
      "Loss: 0.2124, Train_acc: 90.69\n",
      "Val_loss: 0.2540, Val_acc: 88.85\n"
     ]
    },
    {
     "name": "stderr",
     "output_type": "stream",
     "text": [
      "100%|██████████| 181/181 [05:18<00:00,  1.76s/it]\n",
      "100%|██████████| 16/16 [00:04<00:00,  3.29it/s]\n"
     ]
    },
    {
     "name": "stdout",
     "output_type": "stream",
     "text": [
      "Validation acc increased (0.888545 --> 0.891455).   Saving model ...\n",
      "Epoch 5\n",
      "Loss: 0.2055, Train_acc: 91.02\n",
      "Val_loss: 0.2494, Val_acc: 89.15\n"
     ]
    },
    {
     "name": "stderr",
     "output_type": "stream",
     "text": [
      "100%|██████████| 181/181 [05:19<00:00,  1.77s/it]\n",
      "100%|██████████| 16/16 [00:04<00:00,  3.39it/s]\n"
     ]
    },
    {
     "name": "stdout",
     "output_type": "stream",
     "text": [
      "Epoch 6\n",
      "Loss: 0.2000, Train_acc: 91.22\n",
      "Val_loss: 0.2448, Val_acc: 88.96\n"
     ]
    },
    {
     "name": "stderr",
     "output_type": "stream",
     "text": [
      "100%|██████████| 181/181 [05:18<00:00,  1.76s/it]\n",
      "100%|██████████| 16/16 [00:04<00:00,  3.30it/s]\n"
     ]
    },
    {
     "name": "stdout",
     "output_type": "stream",
     "text": [
      "Validation acc increased (0.891455 --> 0.893091).   Saving model ...\n",
      "Epoch 7\n",
      "Loss: 0.1945, Train_acc: 91.44\n",
      "Val_loss: 0.2420, Val_acc: 89.31\n"
     ]
    },
    {
     "name": "stderr",
     "output_type": "stream",
     "text": [
      "100%|██████████| 181/181 [05:17<00:00,  1.75s/it]\n",
      "100%|██████████| 16/16 [00:04<00:00,  3.31it/s]\n"
     ]
    },
    {
     "name": "stdout",
     "output_type": "stream",
     "text": [
      "Validation acc increased (0.893091 --> 0.895136).   Saving model ...\n",
      "Epoch 8\n",
      "Loss: 0.1908, Train_acc: 91.60\n",
      "Val_loss: 0.2403, Val_acc: 89.51\n"
     ]
    },
    {
     "name": "stderr",
     "output_type": "stream",
     "text": [
      "100%|██████████| 181/181 [05:17<00:00,  1.75s/it]\n",
      "100%|██████████| 16/16 [00:04<00:00,  3.26it/s]\n"
     ]
    },
    {
     "name": "stdout",
     "output_type": "stream",
     "text": [
      "Epoch 9\n",
      "Loss: 0.1856, Train_acc: 91.90\n",
      "Val_loss: 0.2426, Val_acc: 89.43\n"
     ]
    },
    {
     "name": "stderr",
     "output_type": "stream",
     "text": [
      "100%|██████████| 181/181 [05:16<00:00,  1.75s/it]\n",
      "100%|██████████| 16/16 [00:04<00:00,  3.38it/s]\n"
     ]
    },
    {
     "name": "stdout",
     "output_type": "stream",
     "text": [
      "Epoch 10\n",
      "Loss: 0.1814, Train_acc: 92.03\n",
      "Val_loss: 0.2423, Val_acc: 89.48\n"
     ]
    },
    {
     "name": "stderr",
     "output_type": "stream",
     "text": [
      "100%|██████████| 181/181 [05:17<00:00,  1.75s/it]\n",
      "100%|██████████| 16/16 [00:04<00:00,  3.40it/s]\n"
     ]
    },
    {
     "name": "stdout",
     "output_type": "stream",
     "text": [
      "Epoch 11\n",
      "Loss: 0.1757, Train_acc: 92.34\n",
      "Val_loss: 0.2440, Val_acc: 89.18\n"
     ]
    },
    {
     "name": "stderr",
     "output_type": "stream",
     "text": [
      "100%|██████████| 181/181 [05:16<00:00,  1.75s/it]\n",
      "100%|██████████| 16/16 [00:04<00:00,  3.34it/s]\n"
     ]
    },
    {
     "name": "stdout",
     "output_type": "stream",
     "text": [
      "Epoch 12\n",
      "Loss: 0.1726, Train_acc: 92.55\n",
      "Val_loss: 0.2452, Val_acc: 89.40\n"
     ]
    },
    {
     "name": "stderr",
     "output_type": "stream",
     "text": [
      "100%|██████████| 181/181 [05:16<00:00,  1.75s/it]\n",
      "100%|██████████| 16/16 [00:04<00:00,  3.34it/s]\n"
     ]
    },
    {
     "name": "stdout",
     "output_type": "stream",
     "text": [
      "Validation acc increased (0.895136 --> 0.896682).   Saving model ...\n",
      "Epoch 13\n",
      "Loss: 0.1706, Train_acc: 92.58\n",
      "Val_loss: 0.2405, Val_acc: 89.67\n"
     ]
    },
    {
     "name": "stderr",
     "output_type": "stream",
     "text": [
      "100%|██████████| 181/181 [05:17<00:00,  1.76s/it]\n",
      "100%|██████████| 16/16 [00:04<00:00,  3.41it/s]\n"
     ]
    },
    {
     "name": "stdout",
     "output_type": "stream",
     "text": [
      "Epoch 14\n",
      "Loss: 0.1661, Train_acc: 92.85\n",
      "Val_loss: 0.2446, Val_acc: 89.33\n"
     ]
    },
    {
     "name": "stderr",
     "output_type": "stream",
     "text": [
      "100%|██████████| 181/181 [05:16<00:00,  1.75s/it]\n",
      "100%|██████████| 16/16 [00:04<00:00,  3.39it/s]\n"
     ]
    },
    {
     "name": "stdout",
     "output_type": "stream",
     "text": [
      "Epoch 15\n",
      "Loss: 0.1602, Train_acc: 93.08\n",
      "Val_loss: 0.2484, Val_acc: 89.22\n"
     ]
    },
    {
     "name": "stderr",
     "output_type": "stream",
     "text": [
      "100%|██████████| 181/181 [05:17<00:00,  1.75s/it]\n",
      "100%|██████████| 16/16 [00:04<00:00,  3.41it/s]\n"
     ]
    },
    {
     "name": "stdout",
     "output_type": "stream",
     "text": [
      "Epoch 16\n",
      "Loss: 0.1576, Train_acc: 93.21\n",
      "Val_loss: 0.2489, Val_acc: 89.35\n"
     ]
    },
    {
     "name": "stderr",
     "output_type": "stream",
     "text": [
      "100%|██████████| 181/181 [05:16<00:00,  1.75s/it]\n",
      "100%|██████████| 16/16 [00:04<00:00,  3.38it/s]\n"
     ]
    },
    {
     "name": "stdout",
     "output_type": "stream",
     "text": [
      "Epoch 17\n",
      "Loss: 0.1516, Train_acc: 93.54\n",
      "Val_loss: 0.2503, Val_acc: 89.20\n"
     ]
    },
    {
     "name": "stderr",
     "output_type": "stream",
     "text": [
      "100%|██████████| 181/181 [05:16<00:00,  1.75s/it]\n",
      "100%|██████████| 16/16 [00:04<00:00,  3.37it/s]\n"
     ]
    },
    {
     "name": "stdout",
     "output_type": "stream",
     "text": [
      "Epoch 18\n",
      "Loss: 0.1468, Train_acc: 93.75\n",
      "Val_loss: 0.2535, Val_acc: 89.33\n"
     ]
    },
    {
     "name": "stderr",
     "output_type": "stream",
     "text": [
      "100%|██████████| 181/181 [05:16<00:00,  1.75s/it]\n",
      "100%|██████████| 16/16 [00:04<00:00,  3.42it/s]\n"
     ]
    },
    {
     "name": "stdout",
     "output_type": "stream",
     "text": [
      "Epoch 00019: reducing learning rate of group 0 to 5.0000e-05.\n",
      "Epoch 19\n",
      "Loss: 0.1420, Train_acc: 94.03\n",
      "Val_loss: 0.2556, Val_acc: 89.34\n"
     ]
    },
    {
     "name": "stderr",
     "output_type": "stream",
     "text": [
      "100%|██████████| 181/181 [05:16<00:00,  1.75s/it]\n",
      "100%|██████████| 16/16 [00:04<00:00,  3.38it/s]\n"
     ]
    },
    {
     "name": "stdout",
     "output_type": "stream",
     "text": [
      "Epoch 20\n",
      "Loss: 0.1298, Train_acc: 94.66\n",
      "Val_loss: 0.2542, Val_acc: 89.43\n"
     ]
    },
    {
     "name": "stderr",
     "output_type": "stream",
     "text": [
      "100%|██████████| 181/181 [05:16<00:00,  1.75s/it]\n",
      "100%|██████████| 16/16 [00:04<00:00,  3.38it/s]\n"
     ]
    },
    {
     "name": "stdout",
     "output_type": "stream",
     "text": [
      "Epoch 21\n",
      "Loss: 0.1232, Train_acc: 95.00\n",
      "Val_loss: 0.2602, Val_acc: 89.38\n"
     ]
    },
    {
     "name": "stderr",
     "output_type": "stream",
     "text": [
      "100%|██████████| 181/181 [05:16<00:00,  1.75s/it]\n",
      "100%|██████████| 16/16 [00:04<00:00,  3.41it/s]\n"
     ]
    },
    {
     "name": "stdout",
     "output_type": "stream",
     "text": [
      "Epoch 22\n",
      "Loss: 0.1195, Train_acc: 95.19\n",
      "Val_loss: 0.2621, Val_acc: 89.37\n"
     ]
    },
    {
     "name": "stderr",
     "output_type": "stream",
     "text": [
      "100%|██████████| 181/181 [05:16<00:00,  1.75s/it]\n",
      "100%|██████████| 16/16 [00:04<00:00,  3.36it/s]\n"
     ]
    },
    {
     "name": "stdout",
     "output_type": "stream",
     "text": [
      "Epoch 23\n",
      "Loss: 0.1169, Train_acc: 95.26\n",
      "Val_loss: 0.2655, Val_acc: 89.25\n"
     ]
    },
    {
     "name": "stderr",
     "output_type": "stream",
     "text": [
      "100%|██████████| 181/181 [05:17<00:00,  1.75s/it]\n",
      "100%|██████████| 16/16 [00:04<00:00,  3.37it/s]\n"
     ]
    },
    {
     "name": "stdout",
     "output_type": "stream",
     "text": [
      "Epoch 24\n",
      "Loss: 0.1129, Train_acc: 95.43\n",
      "Val_loss: 0.2672, Val_acc: 89.30\n"
     ]
    },
    {
     "name": "stderr",
     "output_type": "stream",
     "text": [
      "100%|██████████| 181/181 [05:16<00:00,  1.75s/it]\n",
      "100%|██████████| 16/16 [00:04<00:00,  3.40it/s]\n"
     ]
    },
    {
     "name": "stdout",
     "output_type": "stream",
     "text": [
      "Epoch 00025: reducing learning rate of group 0 to 2.5000e-05.\n",
      "Epoch 25\n",
      "Loss: 0.1120, Train_acc: 95.54\n",
      "Val_loss: 0.2716, Val_acc: 89.31\n"
     ]
    },
    {
     "name": "stderr",
     "output_type": "stream",
     "text": [
      "100%|██████████| 181/181 [05:16<00:00,  1.75s/it]\n",
      "100%|██████████| 16/16 [00:04<00:00,  3.38it/s]\n"
     ]
    },
    {
     "name": "stdout",
     "output_type": "stream",
     "text": [
      "Epoch 26\n",
      "Loss: 0.1033, Train_acc: 95.98\n",
      "Val_loss: 0.2714, Val_acc: 89.39\n"
     ]
    },
    {
     "name": "stderr",
     "output_type": "stream",
     "text": [
      "100%|██████████| 181/181 [05:17<00:00,  1.75s/it]\n",
      "100%|██████████| 16/16 [00:04<00:00,  3.36it/s]\n"
     ]
    },
    {
     "name": "stdout",
     "output_type": "stream",
     "text": [
      "Epoch 27\n",
      "Loss: 0.1009, Train_acc: 96.05\n",
      "Val_loss: 0.2734, Val_acc: 89.34\n"
     ]
    },
    {
     "name": "stderr",
     "output_type": "stream",
     "text": [
      "100%|██████████| 181/181 [05:16<00:00,  1.75s/it]\n",
      "100%|██████████| 16/16 [00:04<00:00,  3.41it/s]\n"
     ]
    },
    {
     "name": "stdout",
     "output_type": "stream",
     "text": [
      "Epoch 28\n",
      "Loss: 0.0990, Train_acc: 96.16\n",
      "Val_loss: 0.2787, Val_acc: 89.38\n"
     ]
    },
    {
     "name": "stderr",
     "output_type": "stream",
     "text": [
      "100%|██████████| 181/181 [05:16<00:00,  1.75s/it]\n",
      "100%|██████████| 16/16 [00:04<00:00,  3.40it/s]\n"
     ]
    },
    {
     "name": "stdout",
     "output_type": "stream",
     "text": [
      "Epoch 29\n",
      "Loss: 0.0950, Train_acc: 96.35\n",
      "Val_loss: 0.2780, Val_acc: 89.19\n"
     ]
    },
    {
     "name": "stderr",
     "output_type": "stream",
     "text": [
      "100%|██████████| 181/181 [05:15<00:00,  1.74s/it]\n",
      "100%|██████████| 16/16 [00:04<00:00,  3.45it/s]"
     ]
    },
    {
     "name": "stdout",
     "output_type": "stream",
     "text": [
      "Epoch 30\n",
      "Loss: 0.0927, Train_acc: 96.39\n",
      "Val_loss: 0.2807, Val_acc: 89.16\n"
     ]
    },
    {
     "name": "stderr",
     "output_type": "stream",
     "text": [
      "\n"
     ]
    }
   ],
   "source": [
    "num_epochs = 30\n",
    "\n",
    "loss_epochs = []\n",
    "loss_val_epochs = []\n",
    "acc_epochs = []\n",
    "acc_eval_epochs = []\n",
    "\n",
    "for epoch in range(num_epochs):\n",
    "    # Training model \n",
    "    num_acc = 0.0\n",
    "    running_loss = 0.0\n",
    "    model.train()\n",
    "    for inputs, labels in tqdm(train_loader):\n",
    "        optimizer.zero_grad()\n",
    "        \n",
    "        inputs  = inputs.to(device)\n",
    "        labels  = labels.to(device)\n",
    "        labels = labels.float()\n",
    "        \n",
    "        outputs = model(inputs)\n",
    "        \n",
    "        loss = criterion(outputs, labels)\n",
    "        \n",
    "        loss.backward()\n",
    "        optimizer.step()\n",
    "        \n",
    "        running_loss += loss.item() * inputs.size(0)\n",
    "        \n",
    "        # Tính toán binary accuracy\n",
    "        predictions = outputs >= 0.5\n",
    "        num_acc += (predictions == labels).float().sum().item() / labels.size(1)\n",
    "        \n",
    "    epoch_loss = running_loss / len(train_loader.dataset)\n",
    "    acc = num_acc / len(train_loader.dataset)\n",
    "\n",
    "    loss_epochs.append(epoch_loss)\n",
    "    acc_epochs.append(acc)\n",
    "    \n",
    "    # Evaluate model on epoch    \n",
    "    num_val_acc = 0.0\n",
    "    running_val_loss = 0.0\n",
    "    \n",
    "    model.eval()\n",
    "    with torch.no_grad():\n",
    "        for inputs, labels in tqdm(val_loader):\n",
    "\n",
    "            inputs  = inputs.to(device)\n",
    "            labels  = labels.to(device)\n",
    "            labels = labels.float()\n",
    "\n",
    "            outputs = model(inputs)\n",
    "\n",
    "            loss = criterion(outputs, labels)\n",
    "\n",
    "            running_val_loss += loss.item() * inputs.size(0)\n",
    "            \n",
    "            # Tính toán binary accuracy\n",
    "            predictions = outputs >= 0.5\n",
    "            num_val_acc += (predictions == labels).float().sum().item() / labels.size(1)\n",
    "    \n",
    "    val_loss = running_val_loss / len(val_loader.dataset)\n",
    "    val_acc = num_val_acc / len(val_loader.dataset)    \n",
    "\n",
    "    loss_val_epochs.append(val_loss)\n",
    "    acc_eval_epochs.append(val_acc)\n",
    "    \n",
    "    scheduler.step(val_acc)\n",
    "    \n",
    "    if val_acc > val_acc_max:\n",
    "        print('Validation acc increased ({:.6f} --> {:.6f}).   Saving model ...'.format(val_acc_max, val_acc))\n",
    "        torch.save(model.state_dict(), '/kaggle/working/model.pt')\n",
    "        val_acc_max = val_acc\n",
    "        \n",
    "    print(\"Epoch\", epoch + 1)\n",
    "    print(f\"Loss: {epoch_loss:.4f}, Train_acc: {acc*100:.2f}\")  \n",
    "    print(f\"Val_loss: {val_loss:.4f}, Val_acc: {val_acc*100:.2f}\")"
   ]
  },
  {
   "cell_type": "code",
   "execution_count": 25,
   "id": "88b7d82d",
   "metadata": {
    "execution": {
     "iopub.execute_input": "2024-07-16T04:13:08.530774Z",
     "iopub.status.busy": "2024-07-16T04:13:08.530399Z",
     "iopub.status.idle": "2024-07-16T04:13:08.840139Z",
     "shell.execute_reply": "2024-07-16T04:13:08.839234Z"
    },
    "papermill": {
     "duration": 0.81707,
     "end_time": "2024-07-16T04:13:08.842393",
     "exception": false,
     "start_time": "2024-07-16T04:13:08.025323",
     "status": "completed"
    },
    "tags": []
   },
   "outputs": [
    {
     "data": {
      "text/plain": [
       "<All keys matched successfully>"
      ]
     },
     "execution_count": 25,
     "metadata": {},
     "output_type": "execute_result"
    }
   ],
   "source": [
    "model.load_state_dict(torch.load('/kaggle/working/model.pt'))"
   ]
  },
  {
   "cell_type": "code",
   "execution_count": 26,
   "id": "40bcb8c0",
   "metadata": {
    "execution": {
     "iopub.execute_input": "2024-07-16T04:13:09.865393Z",
     "iopub.status.busy": "2024-07-16T04:13:09.865000Z",
     "iopub.status.idle": "2024-07-16T04:13:42.739210Z",
     "shell.execute_reply": "2024-07-16T04:13:42.738209Z"
    },
    "papermill": {
     "duration": 33.392768,
     "end_time": "2024-07-16T04:13:42.741134",
     "exception": false,
     "start_time": "2024-07-16T04:13:09.348366",
     "status": "completed"
    },
    "tags": []
   },
   "outputs": [
    {
     "name": "stderr",
     "output_type": "stream",
     "text": [
      "100%|██████████| 1656/1656 [00:32<00:00, 50.40it/s]\n"
     ]
    },
    {
     "data": {
      "text/plain": [
       "91.85331576636004"
      ]
     },
     "execution_count": 26,
     "metadata": {},
     "output_type": "execute_result"
    }
   ],
   "source": [
    "y_pred = []\n",
    "y_true = []\n",
    "test_acc = 0.0\n",
    "model.eval()\n",
    "with torch.no_grad():\n",
    "    for inputs, labels in tqdm(test_loader):\n",
    "\n",
    "        inputs  = inputs.to(device)\n",
    "        labels  = labels.to(device)\n",
    "        y_true.append(labels.cpu())\n",
    "        \n",
    "        labels = labels.float()\n",
    "\n",
    "        outputs = model(inputs)\n",
    "\n",
    "        y_pred.append(outputs.cpu())\n",
    "        \n",
    "        predictions = outputs >= 0.5\n",
    "        test_acc += (predictions == labels).float().sum().item() / labels.size(1)\n",
    "        \n",
    "test_acc = (test_acc * 100) / len(test_dataset)\n",
    "test_acc"
   ]
  },
  {
   "cell_type": "code",
   "execution_count": 27,
   "id": "ee063f3d",
   "metadata": {
    "execution": {
     "iopub.execute_input": "2024-07-16T04:13:43.862342Z",
     "iopub.status.busy": "2024-07-16T04:13:43.862010Z",
     "iopub.status.idle": "2024-07-16T04:13:43.890064Z",
     "shell.execute_reply": "2024-07-16T04:13:43.889352Z"
    },
    "papermill": {
     "duration": 0.558296,
     "end_time": "2024-07-16T04:13:43.891955",
     "exception": false,
     "start_time": "2024-07-16T04:13:43.333659",
     "status": "completed"
    },
    "tags": []
   },
   "outputs": [],
   "source": [
    "y_true = np.squeeze(y_true, axis=1)\n",
    "y_pred = np.squeeze(y_pred, axis=1)"
   ]
  },
  {
   "cell_type": "code",
   "execution_count": 28,
   "id": "17a2f8c9",
   "metadata": {
    "execution": {
     "iopub.execute_input": "2024-07-16T04:13:44.937933Z",
     "iopub.status.busy": "2024-07-16T04:13:44.937077Z",
     "iopub.status.idle": "2024-07-16T04:13:48.216017Z",
     "shell.execute_reply": "2024-07-16T04:13:48.215119Z"
    },
    "papermill": {
     "duration": 3.804069,
     "end_time": "2024-07-16T04:13:48.217947",
     "exception": false,
     "start_time": "2024-07-16T04:13:44.413878",
     "status": "completed"
    },
    "tags": []
   },
   "outputs": [
    {
     "name": "stdout",
     "output_type": "stream",
     "text": [
      "KL_GRADE\n",
      "Accuracy: 0.7210144927536232\n",
      "---------------------------------------------------------------------------\n",
      "              precision    recall  f1-score   support\n",
      "\n",
      "           0       0.78      0.88      0.82       639\n",
      "           1       0.42      0.40      0.41       296\n",
      "           2       0.76      0.65      0.70       447\n",
      "           3       0.83      0.81      0.82       223\n",
      "           4       0.86      0.82      0.84        51\n",
      "\n",
      "    accuracy                           0.72      1656\n",
      "   macro avg       0.73      0.71      0.72      1656\n",
      "weighted avg       0.72      0.72      0.72      1656\n",
      "\n"
     ]
    },
    {
     "data": {
      "image/png": "[encoded data removed]",
      "text/plain": [
       "<Figure size 640x480 with 2 Axes>"
      ]
     },
     "metadata": {},
     "output_type": "display_data"
    },
    {
     "name": "stdout",
     "output_type": "stream",
     "text": [
      "===========================================================================\n",
      "OSTEOPHYTES\n",
      "Accuracy: 0.7053140096618358\n",
      "---------------------------------------------------------------------------\n",
      "              precision    recall  f1-score   support\n",
      "\n",
      "           0       0.84      0.79      0.82       746\n",
      "           1       0.59      0.60      0.60       358\n",
      "           2       0.61      0.66      0.63       552\n",
      "\n",
      "    accuracy                           0.71      1656\n",
      "   macro avg       0.68      0.68      0.68      1656\n",
      "weighted avg       0.71      0.71      0.71      1656\n",
      "\n"
     ]
    },
    {
     "data": {
      "image/png": "[encoded data removed]",
      "text/plain": [
       "<Figure size 640x480 with 2 Axes>"
      ]
     },
     "metadata": {},
     "output_type": "display_data"
    },
    {
     "name": "stdout",
     "output_type": "stream",
     "text": [
      "===========================================================================\n",
      "JSN\n",
      "Accuracy: 0.7590579710144928\n",
      "---------------------------------------------------------------------------\n",
      "              precision    recall  f1-score   support\n",
      "\n",
      "           0       0.38      0.33      0.36       218\n",
      "           1       0.69      0.67      0.68       327\n",
      "           2       0.84      0.87      0.85      1015\n",
      "           3       0.85      0.85      0.85        96\n",
      "\n",
      "    accuracy                           0.76      1656\n",
      "   macro avg       0.69      0.68      0.69      1656\n",
      "weighted avg       0.75      0.76      0.75      1656\n",
      "\n"
     ]
    },
    {
     "data": {
      "image/png": "[encoded data removed]",
      "text/plain": [
       "<Figure size 640x480 with 2 Axes>"
      ]
     },
     "metadata": {},
     "output_type": "display_data"
    },
    {
     "name": "stdout",
     "output_type": "stream",
     "text": [
      "===========================================================================\n",
      "OSFL\n",
      "Accuracy: 0.7001972386587771\n",
      "---------------------------------------------------------------------------\n",
      "              precision    recall  f1-score   support\n",
      "\n",
      "           0       0.79      0.91      0.85       621\n",
      "           1       0.59      0.34      0.43       251\n",
      "           2       0.27      0.29      0.28        80\n",
      "           3       0.49      0.55      0.52        62\n",
      "\n",
      "    accuracy                           0.70      1014\n",
      "   macro avg       0.54      0.52      0.52      1014\n",
      "weighted avg       0.68      0.70      0.68      1014\n",
      "\n"
     ]
    },
    {
     "data": {
      "image/png": "[encoded data removed]",
      "text/plain": [
       "<Figure size 640x480 with 2 Axes>"
      ]
     },
     "metadata": {},
     "output_type": "display_data"
    },
    {
     "name": "stdout",
     "output_type": "stream",
     "text": [
      "===========================================================================\n",
      "SCFL\n",
      "Accuracy: 0.9635108481262328\n",
      "---------------------------------------------------------------------------\n",
      "              precision    recall  f1-score   support\n",
      "\n",
      "           0       0.98      0.99      0.99       933\n",
      "           1       0.65      0.54      0.59        37\n",
      "           2       0.78      0.78      0.78        40\n",
      "           3       0.00      0.00      0.00         4\n",
      "\n",
      "    accuracy                           0.96      1014\n",
      "   macro avg       0.60      0.58      0.59      1014\n",
      "weighted avg       0.96      0.96      0.96      1014\n",
      "\n"
     ]
    },
    {
     "name": "stderr",
     "output_type": "stream",
     "text": [
      "/opt/conda/lib/python3.10/site-packages/sklearn/metrics/_classification.py:1531: UndefinedMetricWarning: Precision is ill-defined and being set to 0.0 in labels with no predicted samples. Use `zero_division` parameter to control this behavior.\n",
      "  _warn_prf(average, modifier, f\"{metric.capitalize()} is\", len(result))\n",
      "/opt/conda/lib/python3.10/site-packages/sklearn/metrics/_classification.py:1531: UndefinedMetricWarning: Precision is ill-defined and being set to 0.0 in labels with no predicted samples. Use `zero_division` parameter to control this behavior.\n",
      "  _warn_prf(average, modifier, f\"{metric.capitalize()} is\", len(result))\n",
      "/opt/conda/lib/python3.10/site-packages/sklearn/metrics/_classification.py:1531: UndefinedMetricWarning: Precision is ill-defined and being set to 0.0 in labels with no predicted samples. Use `zero_division` parameter to control this behavior.\n",
      "  _warn_prf(average, modifier, f\"{metric.capitalize()} is\", len(result))\n"
     ]
    },
    {
     "data": {
      "image/png": "[encoded data removed]",
      "text/plain": [
       "<Figure size 640x480 with 2 Axes>"
      ]
     },
     "metadata": {},
     "output_type": "display_data"
    },
    {
     "name": "stdout",
     "output_type": "stream",
     "text": [
      "===========================================================================\n",
      "OSTM\n",
      "Accuracy: 0.7238658777120316\n",
      "---------------------------------------------------------------------------\n",
      "              precision    recall  f1-score   support\n",
      "\n",
      "           0       0.77      0.77      0.77       390\n",
      "           1       0.72      0.77      0.74       481\n",
      "           2       0.53      0.39      0.45       103\n",
      "           3       0.63      0.60      0.62        40\n",
      "\n",
      "    accuracy                           0.72      1014\n",
      "   macro avg       0.66      0.63      0.64      1014\n",
      "weighted avg       0.72      0.72      0.72      1014\n",
      "\n"
     ]
    },
    {
     "data": {
      "image/png": "[encoded data removed]",
      "text/plain": [
       "<Figure size 640x480 with 2 Axes>"
      ]
     },
     "metadata": {},
     "output_type": "display_data"
    },
    {
     "name": "stdout",
     "output_type": "stream",
     "text": [
      "===========================================================================\n",
      "SCTM\n",
      "Accuracy: 0.8136094674556213\n",
      "---------------------------------------------------------------------------\n",
      "              precision    recall  f1-score   support\n",
      "\n",
      "           0       0.88      0.96      0.92       661\n",
      "           1       0.68      0.48      0.56       216\n",
      "           2       0.62      0.74      0.67       115\n",
      "           3       1.00      0.18      0.31        22\n",
      "\n",
      "    accuracy                           0.81      1014\n",
      "   macro avg       0.79      0.59      0.61      1014\n",
      "weighted avg       0.81      0.81      0.80      1014\n",
      "\n"
     ]
    },
    {
     "data": {
      "image/png": "[encoded data removed]",
      "text/plain": [
       "<Figure size 640x480 with 2 Axes>"
      ]
     },
     "metadata": {},
     "output_type": "display_data"
    },
    {
     "name": "stdout",
     "output_type": "stream",
     "text": [
      "===========================================================================\n",
      "OSFM\n",
      "Accuracy: 0.7130177514792899\n",
      "---------------------------------------------------------------------------\n",
      "              precision    recall  f1-score   support\n",
      "\n",
      "           0       0.82      0.91      0.86       565\n",
      "           1       0.53      0.46      0.49       224\n",
      "           2       0.41      0.18      0.25       104\n",
      "           3       0.59      0.74      0.66       121\n",
      "\n",
      "    accuracy                           0.71      1014\n",
      "   macro avg       0.59      0.57      0.57      1014\n",
      "weighted avg       0.69      0.71      0.69      1014\n",
      "\n"
     ]
    },
    {
     "data": {
      "image/png": "[encoded data removed]",
      "text/plain": [
       "<Figure size 640x480 with 2 Axes>"
      ]
     },
     "metadata": {},
     "output_type": "display_data"
    },
    {
     "name": "stdout",
     "output_type": "stream",
     "text": [
      "===========================================================================\n",
      "SCFM\n",
      "Accuracy: 0.8214990138067061\n",
      "---------------------------------------------------------------------------\n",
      "              precision    recall  f1-score   support\n",
      "\n",
      "           0       0.88      0.96      0.92       679\n",
      "           1       0.69      0.47      0.56       207\n",
      "           2       0.64      0.77      0.70       111\n",
      "           3       0.50      0.06      0.11        17\n",
      "\n",
      "    accuracy                           0.82      1014\n",
      "   macro avg       0.68      0.56      0.57      1014\n",
      "weighted avg       0.81      0.82      0.81      1014\n",
      "\n"
     ]
    },
    {
     "data": {
      "image/png": "[encoded data removed]",
      "text/plain": [
       "<Figure size 640x480 with 2 Axes>"
      ]
     },
     "metadata": {},
     "output_type": "display_data"
    },
    {
     "name": "stdout",
     "output_type": "stream",
     "text": [
      "===========================================================================\n",
      "OSTL\n",
      "Accuracy: 0.7938856015779092\n",
      "---------------------------------------------------------------------------\n",
      "              precision    recall  f1-score   support\n",
      "\n",
      "           0       0.89      0.90      0.90       653\n",
      "           1       0.63      0.72      0.67       258\n",
      "           2       0.33      0.06      0.10        54\n",
      "           3       0.58      0.61      0.59        49\n",
      "\n",
      "    accuracy                           0.79      1014\n",
      "   macro avg       0.61      0.57      0.56      1014\n",
      "weighted avg       0.78      0.79      0.78      1014\n",
      "\n"
     ]
    },
    {
     "data": {
      "image/png": "[encoded data removed]",
      "text/plain": [
       "<Figure size 640x480 with 2 Axes>"
      ]
     },
     "metadata": {},
     "output_type": "display_data"
    },
    {
     "name": "stdout",
     "output_type": "stream",
     "text": [
      "===========================================================================\n",
      "SCTL\n",
      "Accuracy: 0.9615384615384616\n",
      "---------------------------------------------------------------------------\n",
      "              precision    recall  f1-score   support\n",
      "\n",
      "           0       0.98      0.99      0.99       940\n",
      "           1       0.61      0.46      0.52        37\n",
      "           2       0.68      0.84      0.75        32\n",
      "           3       0.00      0.00      0.00         5\n",
      "\n",
      "    accuracy                           0.96      1014\n",
      "   macro avg       0.57      0.57      0.57      1014\n",
      "weighted avg       0.96      0.96      0.96      1014\n",
      "\n"
     ]
    },
    {
     "name": "stderr",
     "output_type": "stream",
     "text": [
      "/opt/conda/lib/python3.10/site-packages/sklearn/metrics/_classification.py:1531: UndefinedMetricWarning: Precision is ill-defined and being set to 0.0 in labels with no predicted samples. Use `zero_division` parameter to control this behavior.\n",
      "  _warn_prf(average, modifier, f\"{metric.capitalize()} is\", len(result))\n",
      "/opt/conda/lib/python3.10/site-packages/sklearn/metrics/_classification.py:1531: UndefinedMetricWarning: Precision is ill-defined and being set to 0.0 in labels with no predicted samples. Use `zero_division` parameter to control this behavior.\n",
      "  _warn_prf(average, modifier, f\"{metric.capitalize()} is\", len(result))\n",
      "/opt/conda/lib/python3.10/site-packages/sklearn/metrics/_classification.py:1531: UndefinedMetricWarning: Precision is ill-defined and being set to 0.0 in labels with no predicted samples. Use `zero_division` parameter to control this behavior.\n",
      "  _warn_prf(average, modifier, f\"{metric.capitalize()} is\", len(result))\n"
     ]
    },
    {
     "data": {
      "image/png": "[encoded data removed]",
      "text/plain": [
       "<Figure size 640x480 with 2 Axes>"
      ]
     },
     "metadata": {},
     "output_type": "display_data"
    },
    {
     "name": "stdout",
     "output_type": "stream",
     "text": [
      "===========================================================================\n"
     ]
    }
   ],
   "source": [
    "previous_n = 0\n",
    "for k,v in target_values.items():\n",
    "    k_y_pred = np.argmax(y_pred[:, previous_n:(previous_n+len(v))], axis=1)[test_nan_df[k]]\n",
    "    k_y_true = np.argmax(y_true[:, previous_n:(previous_n+len(v))], axis=1)[test_nan_df[k]]\n",
    "    previous_n =  previous_n + len(v)\n",
    "    print(k.upper())\n",
    "    print('Accuracy:', accuracy_score(k_y_true, k_y_pred))\n",
    "    print('-'*75)\n",
    "    print(classification_report(k_y_true, k_y_pred))\n",
    "    cm = confusion_matrix(k_y_true, k_y_pred)\n",
    "    cm_display = ConfusionMatrixDisplay(cm).plot(cmap='Blues')\n",
    "    plt.show()\n",
    "    print('='*75)"
   ]
  },
  {
   "cell_type": "markdown",
   "id": "01ffa224",
   "metadata": {
    "papermill": {
     "duration": 0.53498,
     "end_time": "2024-07-16T04:13:49.290036",
     "exception": false,
     "start_time": "2024-07-16T04:13:48.755056",
     "status": "completed"
    },
    "tags": []
   },
   "source": [
    "# predict for all data (output phase 1)"
   ]
  },
  {
   "cell_type": "code",
   "execution_count": 29,
   "id": "1ffff725",
   "metadata": {
    "execution": {
     "iopub.execute_input": "2024-07-16T04:13:50.421492Z",
     "iopub.status.busy": "2024-07-16T04:13:50.421119Z",
     "iopub.status.idle": "2024-07-16T04:13:50.426501Z",
     "shell.execute_reply": "2024-07-16T04:13:50.425625Z"
    },
    "papermill": {
     "duration": 0.542312,
     "end_time": "2024-07-16T04:13:50.428580",
     "exception": false,
     "start_time": "2024-07-16T04:13:49.886268",
     "status": "completed"
    },
    "tags": []
   },
   "outputs": [],
   "source": [
    "column_dicts = copy.deepcopy(target_values)\n",
    "\n",
    "# Update cloned_target_values to convert specified keys to integers\n",
    "for key in ['osfl', 'scfl', 'ostm', 'sctm', 'osfm', 'scfm', 'ostl', 'sctl']:\n",
    "    if key in column_dicts:\n",
    "        column_dicts[key] = list(map(int, column_dicts[key]))"
   ]
  },
  {
   "cell_type": "code",
   "execution_count": 30,
   "id": "f8aef590",
   "metadata": {
    "execution": {
     "iopub.execute_input": "2024-07-16T04:13:51.492502Z",
     "iopub.status.busy": "2024-07-16T04:13:51.491633Z",
     "iopub.status.idle": "2024-07-16T04:13:51.511432Z",
     "shell.execute_reply": "2024-07-16T04:13:51.510720Z"
    },
    "papermill": {
     "duration": 0.555009,
     "end_time": "2024-07-16T04:13:51.513423",
     "exception": false,
     "start_time": "2024-07-16T04:13:50.958414",
     "status": "completed"
    },
    "tags": []
   },
   "outputs": [],
   "source": [
    "data_train = df[df['subset'] == 'train'][['filename', 'kl_grade', 'subset', 'actual_path']].values.tolist()\n",
    "\n",
    "data_val = df[df['subset'] == 'val'][['filename', 'kl_grade', 'subset', 'actual_path']].values.tolist()\n",
    "\n",
    "data_test = df[df['subset'] == 'test'][['filename', 'kl_grade', 'subset', 'actual_path']].values.tolist()"
   ]
  },
  {
   "cell_type": "code",
   "execution_count": 31,
   "id": "0da06a82",
   "metadata": {
    "execution": {
     "iopub.execute_input": "2024-07-16T04:13:52.639976Z",
     "iopub.status.busy": "2024-07-16T04:13:52.639282Z",
     "iopub.status.idle": "2024-07-16T04:13:52.646864Z",
     "shell.execute_reply": "2024-07-16T04:13:52.645964Z"
    },
    "papermill": {
     "duration": 0.607474,
     "end_time": "2024-07-16T04:13:52.648717",
     "exception": false,
     "start_time": "2024-07-16T04:13:52.041243",
     "status": "completed"
    },
    "tags": []
   },
   "outputs": [],
   "source": [
    "class Predict_DataSet(Dataset):\n",
    "    def __init__(self, data, transform=None):   \n",
    "        self.data = data\n",
    "        self.transform = transform\n",
    "    \n",
    "    def __len__(self):\n",
    "        return len(self.data)\n",
    "    \n",
    "    def __getitem__(self, index):\n",
    "        # Read image\n",
    "        image = cv2.imread(self.data[index][3])\n",
    "        image = cv2.cvtColor(image, cv2.COLOR_BGR2RGB)\n",
    "        image = Image.fromarray(image)\n",
    "        \n",
    "        # Get label\n",
    "        filename = self.data[index][0]\n",
    "        kl_grade = self.data[index][1]\n",
    "        subset = self.data[index][2]\n",
    "        \n",
    "        if self.transform:\n",
    "            image = self.transform(image)\n",
    "\n",
    "        return image, filename, kl_grade, subset"
   ]
  },
  {
   "cell_type": "code",
   "execution_count": 32,
   "id": "e80e147c",
   "metadata": {
    "execution": {
     "iopub.execute_input": "2024-07-16T04:13:53.720397Z",
     "iopub.status.busy": "2024-07-16T04:13:53.720048Z",
     "iopub.status.idle": "2024-07-16T04:13:53.727443Z",
     "shell.execute_reply": "2024-07-16T04:13:53.726553Z"
    },
    "papermill": {
     "duration": 0.541845,
     "end_time": "2024-07-16T04:13:53.729404",
     "exception": false,
     "start_time": "2024-07-16T04:13:53.187559",
     "status": "completed"
    },
    "tags": []
   },
   "outputs": [],
   "source": [
    "test_transforms = transforms.Compose([\n",
    "    transforms.Resize((HEIGHT, WEIGHT)),\n",
    "    transforms.ToTensor(),\n",
    "    transforms.Normalize((0.6078, 0.6078, 0.6078), (0.1932, 0.1932, 0.1932)),\n",
    "])\n",
    "\n",
    "train_dataset = Predict_DataSet(data=data_train, transform=test_transforms)\n",
    "val_dataset   = Predict_DataSet(data=data_val, transform=test_transforms)\n",
    "test_dataset  = Predict_DataSet(data=data_test, transform=test_transforms)\n",
    "\n",
    "train_loader  = torch.utils.data.DataLoader(train_dataset ,shuffle=False, batch_size = 32)\n",
    "val_loader    = torch.utils.data.DataLoader(val_dataset ,shuffle=False, batch_size = 32)\n",
    "test_loader   = torch.utils.data.DataLoader(test_dataset ,shuffle=False, batch_size = 32)"
   ]
  },
  {
   "cell_type": "markdown",
   "id": "e084fbab",
   "metadata": {
    "papermill": {
     "duration": 0.535925,
     "end_time": "2024-07-16T04:13:54.796926",
     "exception": false,
     "start_time": "2024-07-16T04:13:54.261001",
     "status": "completed"
    },
    "tags": []
   },
   "source": [
    "## test set"
   ]
  },
  {
   "cell_type": "code",
   "execution_count": 33,
   "id": "f568d2f0",
   "metadata": {
    "execution": {
     "iopub.execute_input": "2024-07-16T04:13:55.858845Z",
     "iopub.status.busy": "2024-07-16T04:13:55.858467Z",
     "iopub.status.idle": "2024-07-16T04:14:11.440340Z",
     "shell.execute_reply": "2024-07-16T04:14:11.439150Z"
    },
    "papermill": {
     "duration": 16.118102,
     "end_time": "2024-07-16T04:14:11.442415",
     "exception": false,
     "start_time": "2024-07-16T04:13:55.324313",
     "status": "completed"
    },
    "tags": []
   },
   "outputs": [
    {
     "name": "stderr",
     "output_type": "stream",
     "text": [
      "100%|██████████| 52/52 [00:15<00:00,  3.34it/s]\n"
     ]
    }
   ],
   "source": [
    "all_filenames = []\n",
    "all_kl_grades = []\n",
    "all_subsets = []\n",
    "all_predictions = []\n",
    "\n",
    "model.eval()\n",
    "with torch.no_grad():\n",
    "    for inputs, filenames, kl_grades, subsets in tqdm(test_loader):\n",
    "        inputs  = inputs.to(device)\n",
    "        outputs = model(inputs)\n",
    "        \n",
    "        all_filenames.extend(filenames)\n",
    "        all_kl_grades.extend(kl_grades.cpu().numpy())\n",
    "        all_subsets.extend(subsets)\n",
    "        all_predictions.append(outputs.cpu().numpy())\n",
    "        \n",
    "all_predictions = np.concatenate(all_predictions, axis=0)\n"
   ]
  },
  {
   "cell_type": "code",
   "execution_count": 34,
   "id": "ad0f0ddb",
   "metadata": {
    "execution": {
     "iopub.execute_input": "2024-07-16T04:14:12.589174Z",
     "iopub.status.busy": "2024-07-16T04:14:12.588419Z",
     "iopub.status.idle": "2024-07-16T04:14:12.718495Z",
     "shell.execute_reply": "2024-07-16T04:14:12.717532Z"
    },
    "papermill": {
     "duration": 0.672813,
     "end_time": "2024-07-16T04:14:12.720750",
     "exception": false,
     "start_time": "2024-07-16T04:14:12.047937",
     "status": "completed"
    },
    "tags": []
   },
   "outputs": [],
   "source": [
    "data = {\n",
    "    'filename': all_filenames,\n",
    "    'kl_grade': all_kl_grades,\n",
    "    'subset': all_subsets,\n",
    "}\n",
    "\n",
    "column_names = []\n",
    "for target, values in column_dicts.items():\n",
    "    column_names.extend([f\"{target}_{v}\" for v in values])\n",
    "    \n",
    "for idx, col_name in enumerate(column_names):\n",
    "    data[col_name] = all_predictions[:, idx]\n",
    "\n",
    "df_results = pd.DataFrame(data)\n",
    "\n",
    "df_results.to_csv('df_test.csv', index=False)"
   ]
  },
  {
   "cell_type": "markdown",
   "id": "20a778f6",
   "metadata": {
    "papermill": {
     "duration": 0.54397,
     "end_time": "2024-07-16T04:14:13.806815",
     "exception": false,
     "start_time": "2024-07-16T04:14:13.262845",
     "status": "completed"
    },
    "tags": []
   },
   "source": [
    "## train set"
   ]
  },
  {
   "cell_type": "code",
   "execution_count": 35,
   "id": "9dee45c0",
   "metadata": {
    "execution": {
     "iopub.execute_input": "2024-07-16T04:14:14.972938Z",
     "iopub.status.busy": "2024-07-16T04:14:14.972330Z",
     "iopub.status.idle": "2024-07-16T04:15:09.009819Z",
     "shell.execute_reply": "2024-07-16T04:15:09.008747Z"
    },
    "papermill": {
     "duration": 54.644285,
     "end_time": "2024-07-16T04:15:09.011871",
     "exception": false,
     "start_time": "2024-07-16T04:14:14.367586",
     "status": "completed"
    },
    "tags": []
   },
   "outputs": [
    {
     "name": "stderr",
     "output_type": "stream",
     "text": [
      "100%|██████████| 181/181 [00:54<00:00,  3.35it/s]\n"
     ]
    }
   ],
   "source": [
    "all_filenames = []\n",
    "all_kl_grades = []\n",
    "all_subsets = []\n",
    "all_predictions = []\n",
    "\n",
    "model.eval()\n",
    "with torch.no_grad():\n",
    "    for inputs, filenames, kl_grades, subsets in tqdm(train_loader):\n",
    "        inputs  = inputs.to(device)\n",
    "        outputs = model(inputs)\n",
    "        \n",
    "        all_filenames.extend(filenames)\n",
    "        all_kl_grades.extend(kl_grades.cpu().numpy())\n",
    "        all_subsets.extend(subsets)\n",
    "        all_predictions.append(outputs.cpu().numpy())\n",
    "        \n",
    "all_predictions = np.concatenate(all_predictions, axis=0)"
   ]
  },
  {
   "cell_type": "code",
   "execution_count": 36,
   "id": "437e15b2",
   "metadata": {
    "execution": {
     "iopub.execute_input": "2024-07-16T04:15:10.115157Z",
     "iopub.status.busy": "2024-07-16T04:15:10.114760Z",
     "iopub.status.idle": "2024-07-16T04:15:10.527579Z",
     "shell.execute_reply": "2024-07-16T04:15:10.526778Z"
    },
    "papermill": {
     "duration": 0.967668,
     "end_time": "2024-07-16T04:15:10.529784",
     "exception": false,
     "start_time": "2024-07-16T04:15:09.562116",
     "status": "completed"
    },
    "tags": []
   },
   "outputs": [],
   "source": [
    "data = {\n",
    "    'filename': all_filenames,\n",
    "    'kl_grade': all_kl_grades,\n",
    "    'subset': all_subsets,\n",
    "}\n",
    "\n",
    "column_names = []\n",
    "for target, values in column_dicts.items():\n",
    "    column_names.extend([f\"{target}_{v}\" for v in values])\n",
    "    \n",
    "for idx, col_name in enumerate(column_names):\n",
    "    data[col_name] = all_predictions[:, idx]\n",
    "\n",
    "df_results = pd.DataFrame(data)\n",
    "\n",
    "df_results.to_csv('df_train.csv', index=False)"
   ]
  },
  {
   "cell_type": "markdown",
   "id": "2a23d62d",
   "metadata": {
    "papermill": {
     "duration": 0.552409,
     "end_time": "2024-07-16T04:15:11.645219",
     "exception": false,
     "start_time": "2024-07-16T04:15:11.092810",
     "status": "completed"
    },
    "tags": []
   },
   "source": [
    "## val set"
   ]
  },
  {
   "cell_type": "code",
   "execution_count": 37,
   "id": "728c0fb0",
   "metadata": {
    "execution": {
     "iopub.execute_input": "2024-07-16T04:15:12.845192Z",
     "iopub.status.busy": "2024-07-16T04:15:12.844529Z",
     "iopub.status.idle": "2024-07-16T04:15:21.981813Z",
     "shell.execute_reply": "2024-07-16T04:15:21.980853Z"
    },
    "papermill": {
     "duration": 9.723958,
     "end_time": "2024-07-16T04:15:21.983873",
     "exception": false,
     "start_time": "2024-07-16T04:15:12.259915",
     "status": "completed"
    },
    "tags": []
   },
   "outputs": [
    {
     "name": "stderr",
     "output_type": "stream",
     "text": [
      "100%|██████████| 26/26 [00:09<00:00,  2.85it/s]\n"
     ]
    }
   ],
   "source": [
    "all_filenames = []\n",
    "all_kl_grades = []\n",
    "all_subsets = []\n",
    "all_predictions = []\n",
    "\n",
    "model.eval()\n",
    "with torch.no_grad():\n",
    "    for inputs, filenames, kl_grades, subsets in tqdm(val_loader):\n",
    "        inputs  = inputs.to(device)\n",
    "        outputs = model(inputs)\n",
    "        \n",
    "        all_filenames.extend(filenames)\n",
    "        all_kl_grades.extend(kl_grades.cpu().numpy())\n",
    "        all_subsets.extend(subsets)\n",
    "        all_predictions.append(outputs.cpu().numpy())\n",
    "        \n",
    "all_predictions = np.concatenate(all_predictions, axis=0)"
   ]
  },
  {
   "cell_type": "code",
   "execution_count": 38,
   "id": "7255f174",
   "metadata": {
    "execution": {
     "iopub.execute_input": "2024-07-16T04:15:23.101335Z",
     "iopub.status.busy": "2024-07-16T04:15:23.100978Z",
     "iopub.status.idle": "2024-07-16T04:15:23.166465Z",
     "shell.execute_reply": "2024-07-16T04:15:23.165727Z"
    },
    "papermill": {
     "duration": 0.62582,
     "end_time": "2024-07-16T04:15:23.168698",
     "exception": false,
     "start_time": "2024-07-16T04:15:22.542878",
     "status": "completed"
    },
    "tags": []
   },
   "outputs": [],
   "source": [
    "data = {\n",
    "    'filename': all_filenames,\n",
    "    'kl_grade': all_kl_grades,\n",
    "    'subset': all_subsets,\n",
    "}\n",
    "\n",
    "column_names = []\n",
    "for target, values in column_dicts.items():\n",
    "    column_names.extend([f\"{target}_{v}\" for v in values])\n",
    "    \n",
    "for idx, col_name in enumerate(column_names):\n",
    "    data[col_name] = all_predictions[:, idx]\n",
    "\n",
    "df_results = pd.DataFrame(data)\n",
    "\n",
    "df_results.to_csv('df_val.csv', index=False)"
   ]
  },
  {
   "cell_type": "code",
   "execution_count": null,
   "id": "2362f34b",
   "metadata": {
    "papermill": {
     "duration": 0.632278,
     "end_time": "2024-07-16T04:15:24.360625",
     "exception": false,
     "start_time": "2024-07-16T04:15:23.728347",
     "status": "completed"
    },
    "tags": []
   },
   "outputs": [],
   "source": []
  }
 ],
 "metadata": {
  "kaggle": {
   "accelerator": "gpu",
   "dataSources": [
    {
     "datasetId": 1257880,
     "sourceId": 2097406,
     "sourceType": "datasetVersion"
    },
    {
     "datasetId": 5351612,
     "sourceId": 8901908,
     "sourceType": "datasetVersion"
    }
   ],
   "dockerImageVersionId": 30747,
   "isGpuEnabled": true,
   "isInternetEnabled": true,
   "language": "python",
   "sourceType": "notebook"
  },
  "kernelspec": {
   "display_name": "Python 3",
   "language": "python",
   "name": "python3"
  },
  "language_info": {
   "codemirror_mode": {
    "name": "ipython",
    "version": 3
   },
   "file_extension": ".py",
   "mimetype": "text/x-python",
   "name": "python",
   "nbconvert_exporter": "python",
   "pygments_lexer": "ipython3",
   "version": "3.10.13"
  },
  "papermill": {
   "default_parameters": {},
   "duration": 9877.307807,
   "end_time": "2024-07-16T04:15:26.764735",
   "environment_variables": {},
   "exception": null,
   "input_path": "__notebook__.ipynb",
   "output_path": "__notebook__.ipynb",
   "parameters": {},
   "start_time": "2024-07-16T01:30:49.456928",
   "version": "2.5.0"
  }
 },
 "nbformat": 4,
 "nbformat_minor": 5
}
